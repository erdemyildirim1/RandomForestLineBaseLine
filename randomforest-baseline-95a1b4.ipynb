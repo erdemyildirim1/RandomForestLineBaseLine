{
 "cells": [
  {
   "cell_type": "code",
   "execution_count": 18,
   "id": "bbcfd805",
   "metadata": {
    "execution": {
     "iopub.execute_input": "2023-02-22T23:52:48.821285Z",
     "iopub.status.busy": "2023-02-22T23:52:48.820293Z",
     "iopub.status.idle": "2023-02-22T23:52:50.262632Z",
     "shell.execute_reply": "2023-02-22T23:52:50.261389Z"
    },
    "papermill": {
     "duration": 1.458803,
     "end_time": "2023-02-22T23:52:50.266074",
     "exception": false,
     "start_time": "2023-02-22T23:52:48.807271",
     "status": "completed"
    },
    "tags": []
   },
   "outputs": [],
   "source": [
    "import os\n",
    "import numpy as np\n",
    "import pandas as pd\n",
    "\n",
    "from sklearn.model_selection import StratifiedKFold\n",
    "from sklearn.model_selection import cross_val_score\n",
    "from sklearn.ensemble import RandomForestClassifier\n",
    "\n",
    "target = 'moved_after_2019'\n",
    "idx = 'user_id'"
   ]
  },
  {
   "cell_type": "code",
   "execution_count": 20,
   "id": "f42799d1",
   "metadata": {
    "execution": {
     "iopub.execute_input": "2023-02-22T23:52:51.801170Z",
     "iopub.status.busy": "2023-02-22T23:52:51.800385Z",
     "iopub.status.idle": "2023-02-22T23:52:51.827964Z",
     "shell.execute_reply": "2023-02-22T23:52:51.826755Z"
    },
    "papermill": {
     "duration": 0.040823,
     "end_time": "2023-02-22T23:52:51.830684",
     "exception": false,
     "start_time": "2023-02-22T23:52:51.789861",
     "status": "completed"
    },
    "tags": []
   },
   "outputs": [],
   "source": [
    "df_train = df_train.set_index(idx)\n",
    "df_test = df_test.set_index(idx)\n",
    "df_subm = df_subm.set_index(idx)\n",
    "\n",
    "df_exp = df_exp[df_exp['start_year_month'] < 201901]"
   ]
  },
  {
   "cell_type": "markdown",
   "id": "9d1da13b",
   "metadata": {
    "papermill": {
     "duration": 0.008948,
     "end_time": "2023-02-22T23:52:51.849011",
     "exception": false,
     "start_time": "2023-02-22T23:52:51.840063",
     "status": "completed"
    },
    "tags": []
   },
   "source": [
    "### Education Table Preprocess"
   ]
  },
  {
   "cell_type": "code",
   "execution_count": 21,
   "id": "24116a54",
   "metadata": {
    "execution": {
     "iopub.execute_input": "2023-02-22T23:52:51.870407Z",
     "iopub.status.busy": "2023-02-22T23:52:51.869968Z",
     "iopub.status.idle": "2023-02-22T23:52:51.905727Z",
     "shell.execute_reply": "2023-02-22T23:52:51.904692Z"
    },
    "papermill": {
     "duration": 0.049069,
     "end_time": "2023-02-22T23:52:51.908386",
     "exception": false,
     "start_time": "2023-02-22T23:52:51.859317",
     "status": "completed"
    },
    "tags": []
   },
   "outputs": [],
   "source": [
    "df_edu = df_edu[df_edu['school_name'].notnull() & df_edu['degree'].notnull()]"
   ]
  },
  {
   "cell_type": "code",
   "execution_count": 22,
   "id": "7cc28a7c",
   "metadata": {
    "execution": {
     "iopub.execute_input": "2023-02-22T23:52:51.929158Z",
     "iopub.status.busy": "2023-02-22T23:52:51.928717Z",
     "iopub.status.idle": "2023-02-22T23:52:56.855355Z",
     "shell.execute_reply": "2023-02-22T23:52:56.854190Z"
    },
    "papermill": {
     "duration": 4.940181,
     "end_time": "2023-02-22T23:52:56.858056",
     "exception": false,
     "start_time": "2023-02-22T23:52:51.917875",
     "status": "completed"
    },
    "tags": []
   },
   "outputs": [],
   "source": [
    "edu_conv = {\n",
    "    \"(?i).*(doktora|doctor|phd|ph.d).*\": \"phd\",\n",
    "    \"(?i).*(yüksek|master|M.Sc|MS|MBA|M.S).*\": \"master\",\n",
    "    \"(?i).*(lisans|licence|bachelor|BS|B.S|B.Sc|engineer|mühendis|mezun|graduate|licentiate).*\": \"graduate\",\n",
    "}\n",
    "\n",
    "df_edu.loc[:, 'degree'] = df_edu.loc[:, 'degree'].replace(edu_conv, regex=True)\n",
    "df_edu = df_edu[df_edu['degree'].isin(edu_conv.values())]"
   ]
  },
  {
   "cell_type": "code",
   "execution_count": null,
   "id": "d85d97a2",
   "metadata": {
    "execution": {
     "iopub.execute_input": "2023-02-22T23:52:56.879341Z",
     "iopub.status.busy": "2023-02-22T23:52:56.878869Z",
     "iopub.status.idle": "2023-02-22T23:52:56.964157Z",
     "shell.execute_reply": "2023-02-22T23:52:56.963038Z"
    },
    "papermill": {
     "duration": 0.098688,
     "end_time": "2023-02-22T23:52:56.966575",
     "exception": false,
     "start_time": "2023-02-22T23:52:56.867887",
     "status": "completed"
    },
    "tags": []
   },
   "outputs": [],
   "source": [
    "df_edu = df_edu.drop_duplicates(['user_id', 'degree'])\n",
    "df_edu = pd.pivot(df_edu, index='user_id', columns='degree', values='school_name')\n",
    "df_edu.head()"
   ]
  },
  {
   "cell_type": "markdown",
   "id": "ac34397a",
   "metadata": {
    "papermill": {
     "duration": 0.009723,
     "end_time": "2023-02-22T23:52:56.986081",
     "exception": false,
     "start_time": "2023-02-22T23:52:56.976358",
     "status": "completed"
    },
    "tags": []
   },
   "source": [
    "### Language Table Preprocess"
   ]
  },
  {
   "cell_type": "code",
   "execution_count": 24,
   "id": "e49fbfee",
   "metadata": {
    "execution": {
     "iopub.execute_input": "2023-02-22T23:52:57.007374Z",
     "iopub.status.busy": "2023-02-22T23:52:57.006918Z",
     "iopub.status.idle": "2023-02-22T23:52:57.023496Z",
     "shell.execute_reply": "2023-02-22T23:52:57.022533Z"
    },
    "papermill": {
     "duration": 0.03024,
     "end_time": "2023-02-22T23:52:57.025886",
     "exception": false,
     "start_time": "2023-02-22T23:52:56.995646",
     "status": "completed"
    },
    "tags": []
   },
   "outputs": [],
   "source": [
    "df_lang = df_lang[df_lang['language'].notnull() & df_lang['proficiency'].notnull()]"
   ]
  },
  {
   "cell_type": "code",
   "execution_count": 25,
   "id": "6ff7dbfa",
   "metadata": {
    "execution": {
     "iopub.execute_input": "2023-02-22T23:52:57.046870Z",
     "iopub.status.busy": "2023-02-22T23:52:57.046448Z",
     "iopub.status.idle": "2023-02-22T23:52:57.059484Z",
     "shell.execute_reply": "2023-02-22T23:52:57.058356Z"
    },
    "papermill": {
     "duration": 0.026256,
     "end_time": "2023-02-22T23:52:57.061804",
     "exception": false,
     "start_time": "2023-02-22T23:52:57.035548",
     "status": "completed"
    },
    "tags": []
   },
   "outputs": [
    {
     "name": "stderr",
     "output_type": "stream",
     "text": [
      "C:\\Users\\Erdem\\AppData\\Local\\Temp\\ipykernel_11280\\2046325581.py:9: FutureWarning: In a future version, `df.iloc[:, i] = newvals` will attempt to set the values inplace instead of always setting a new array. To retain the old behavior, use either `df[df.columns[i]] = newvals` or, if columns are non-unique, `df.isetitem(i, newvals)`\n",
      "  df_lang.loc[:, 'proficiency'] = df_lang.loc[:, 'proficiency'].map(lang_rank)\n"
     ]
    }
   ],
   "source": [
    "lang_rank = {\n",
    "    'elementary': 1,\n",
    "    'limited_working': 2,\n",
    "    'professional_working': 3,\n",
    "    'full_professional': 4,\n",
    "    'native_or_bilingual': 5\n",
    "}\n",
    "\n",
    "df_lang.loc[:, 'proficiency'] = df_lang.loc[:, 'proficiency'].map(lang_rank)"
   ]
  },
  {
   "cell_type": "code",
   "execution_count": 26,
   "id": "3f0bae38",
   "metadata": {
    "execution": {
     "iopub.execute_input": "2023-02-22T23:52:57.083086Z",
     "iopub.status.busy": "2023-02-22T23:52:57.082619Z",
     "iopub.status.idle": "2023-02-22T23:52:58.342886Z",
     "shell.execute_reply": "2023-02-22T23:52:58.341688Z"
    },
    "papermill": {
     "duration": 1.273995,
     "end_time": "2023-02-22T23:52:58.345539",
     "exception": false,
     "start_time": "2023-02-22T23:52:57.071544",
     "status": "completed"
    },
    "tags": []
   },
   "outputs": [],
   "source": [
    "lang_conv = {\n",
    "    '(?i).*(ingilizce|english|englishch|englisch).*': 'english',\n",
    "    '(?i).*(almanca|german|deutsch).*': 'german',\n",
    "    '(?i).*(fransızca|french|français).*': 'french',\n",
    "    '(?i).*(ispanyolca|spanish|español).*': 'spanish',\n",
    "    '(?i).*(arapça|arabic).*': 'arabic',\n",
    "    '(?i).*(rusça|russian).*': 'russian',\n",
    "    '(?i).*(türkçe|turkish|türkisch).*': 'turkish',\n",
    "}\n",
    "\n",
    "df_lang['language'] = df_lang['language'].replace(lang_conv, regex=True)\n",
    "df_lang = df_lang[df_lang['language'].isin(lang_conv.values())]"
   ]
  },
  {
   "cell_type": "code",
   "execution_count": 27,
   "id": "b1646b77",
   "metadata": {
    "execution": {
     "iopub.execute_input": "2023-02-22T23:52:58.366688Z",
     "iopub.status.busy": "2023-02-22T23:52:58.366259Z",
     "iopub.status.idle": "2023-02-22T23:52:58.424553Z",
     "shell.execute_reply": "2023-02-22T23:52:58.423256Z"
    },
    "papermill": {
     "duration": 0.072312,
     "end_time": "2023-02-22T23:52:58.427557",
     "exception": false,
     "start_time": "2023-02-22T23:52:58.355245",
     "status": "completed"
    },
    "tags": []
   },
   "outputs": [
    {
     "data": {
      "text/html": [
       "<div>\n",
       "<style scoped>\n",
       "    .dataframe tbody tr th:only-of-type {\n",
       "        vertical-align: middle;\n",
       "    }\n",
       "\n",
       "    .dataframe tbody tr th {\n",
       "        vertical-align: top;\n",
       "    }\n",
       "\n",
       "    .dataframe thead th {\n",
       "        text-align: right;\n",
       "    }\n",
       "</style>\n",
       "<table border=\"1\" class=\"dataframe\">\n",
       "  <thead>\n",
       "    <tr style=\"text-align: right;\">\n",
       "      <th>language</th>\n",
       "      <th>arabic</th>\n",
       "      <th>english</th>\n",
       "      <th>french</th>\n",
       "      <th>german</th>\n",
       "      <th>russian</th>\n",
       "      <th>spanish</th>\n",
       "      <th>turkish</th>\n",
       "    </tr>\n",
       "    <tr>\n",
       "      <th>user_id</th>\n",
       "      <th></th>\n",
       "      <th></th>\n",
       "      <th></th>\n",
       "      <th></th>\n",
       "      <th></th>\n",
       "      <th></th>\n",
       "      <th></th>\n",
       "    </tr>\n",
       "  </thead>\n",
       "  <tbody>\n",
       "    <tr>\n",
       "      <th>8</th>\n",
       "      <td>0</td>\n",
       "      <td>4</td>\n",
       "      <td>1</td>\n",
       "      <td>0</td>\n",
       "      <td>0</td>\n",
       "      <td>0</td>\n",
       "      <td>5</td>\n",
       "    </tr>\n",
       "    <tr>\n",
       "      <th>11</th>\n",
       "      <td>0</td>\n",
       "      <td>3</td>\n",
       "      <td>0</td>\n",
       "      <td>0</td>\n",
       "      <td>0</td>\n",
       "      <td>0</td>\n",
       "      <td>5</td>\n",
       "    </tr>\n",
       "    <tr>\n",
       "      <th>12</th>\n",
       "      <td>0</td>\n",
       "      <td>3</td>\n",
       "      <td>0</td>\n",
       "      <td>0</td>\n",
       "      <td>0</td>\n",
       "      <td>0</td>\n",
       "      <td>5</td>\n",
       "    </tr>\n",
       "    <tr>\n",
       "      <th>13</th>\n",
       "      <td>0</td>\n",
       "      <td>4</td>\n",
       "      <td>0</td>\n",
       "      <td>2</td>\n",
       "      <td>0</td>\n",
       "      <td>0</td>\n",
       "      <td>0</td>\n",
       "    </tr>\n",
       "    <tr>\n",
       "      <th>14</th>\n",
       "      <td>0</td>\n",
       "      <td>3</td>\n",
       "      <td>0</td>\n",
       "      <td>0</td>\n",
       "      <td>0</td>\n",
       "      <td>0</td>\n",
       "      <td>5</td>\n",
       "    </tr>\n",
       "  </tbody>\n",
       "</table>\n",
       "</div>"
      ],
      "text/plain": [
       "language  arabic  english  french  german  russian  spanish  turkish\n",
       "user_id                                                             \n",
       "8              0        4       1       0        0        0        5\n",
       "11             0        3       0       0        0        0        5\n",
       "12             0        3       0       0        0        0        5\n",
       "13             0        4       0       2        0        0        0\n",
       "14             0        3       0       0        0        0        5"
      ]
     },
     "execution_count": 27,
     "metadata": {},
     "output_type": "execute_result"
    }
   ],
   "source": [
    "df_lang = df_lang.drop_duplicates(['user_id', 'language'])\n",
    "df_lang = pd.pivot(df_lang, index='user_id', columns='language', values='proficiency')\n",
    "df_lang = df_lang.fillna(0).astype(int)\n",
    "df_lang.head()"
   ]
  },
  {
   "cell_type": "markdown",
   "id": "5f535005",
   "metadata": {
    "papermill": {
     "duration": 0.009428,
     "end_time": "2023-02-22T23:52:58.446953",
     "exception": false,
     "start_time": "2023-02-22T23:52:58.437525",
     "status": "completed"
    },
    "tags": []
   },
   "source": [
    "### Skill Table Preprocess"
   ]
  },
  {
   "cell_type": "code",
   "execution_count": 28,
   "id": "c9b50138",
   "metadata": {
    "execution": {
     "iopub.execute_input": "2023-02-22T23:52:58.468223Z",
     "iopub.status.busy": "2023-02-22T23:52:58.467853Z",
     "iopub.status.idle": "2023-02-22T23:52:58.749920Z",
     "shell.execute_reply": "2023-02-22T23:52:58.748590Z"
    },
    "papermill": {
     "duration": 0.296248,
     "end_time": "2023-02-22T23:52:58.753036",
     "exception": false,
     "start_time": "2023-02-22T23:52:58.456788",
     "status": "completed"
    },
    "tags": []
   },
   "outputs": [],
   "source": [
    "used_skills = df_skill['skill'].value_counts().iloc[:60].index # we only took most common 60 skills, you can increase it\n",
    "\n",
    "df_skill = df_skill[df_skill['skill'].isin(used_skills)]\n",
    "df_skill['experience'] = True"
   ]
  },
  {
   "cell_type": "code",
   "execution_count": 29,
   "id": "e60335b0",
   "metadata": {
    "execution": {
     "iopub.execute_input": "2023-02-22T23:52:58.774867Z",
     "iopub.status.busy": "2023-02-22T23:52:58.774464Z",
     "iopub.status.idle": "2023-02-22T23:53:00.459980Z",
     "shell.execute_reply": "2023-02-22T23:53:00.458558Z"
    },
    "papermill": {
     "duration": 1.699374,
     "end_time": "2023-02-22T23:53:00.462498",
     "exception": false,
     "start_time": "2023-02-22T23:52:58.763124",
     "status": "completed"
    },
    "tags": []
   },
   "outputs": [
    {
     "data": {
      "text/html": [
       "<div>\n",
       "<style scoped>\n",
       "    .dataframe tbody tr th:only-of-type {\n",
       "        vertical-align: middle;\n",
       "    }\n",
       "\n",
       "    .dataframe tbody tr th {\n",
       "        vertical-align: top;\n",
       "    }\n",
       "\n",
       "    .dataframe thead th {\n",
       "        text-align: right;\n",
       "    }\n",
       "</style>\n",
       "<table border=\"1\" class=\"dataframe\">\n",
       "  <thead>\n",
       "    <tr style=\"text-align: right;\">\n",
       "      <th>skill</th>\n",
       "      <th>.NET</th>\n",
       "      <th>AJAX</th>\n",
       "      <th>ASP.NET</th>\n",
       "      <th>ASP.NET MVC</th>\n",
       "      <th>Agile Methodologies</th>\n",
       "      <th>Android</th>\n",
       "      <th>AutoCAD</th>\n",
       "      <th>C</th>\n",
       "      <th>C#</th>\n",
       "      <th>C++</th>\n",
       "      <th>...</th>\n",
       "      <th>Spring Framework</th>\n",
       "      <th>T-SQL</th>\n",
       "      <th>Visual Studio</th>\n",
       "      <th>Web Development</th>\n",
       "      <th>Web Geliştirme</th>\n",
       "      <th>Web Services</th>\n",
       "      <th>XML</th>\n",
       "      <th>Yazılım Geliştirme</th>\n",
       "      <th>jQuery</th>\n",
       "      <th>İngilizce</th>\n",
       "    </tr>\n",
       "    <tr>\n",
       "      <th>user_id</th>\n",
       "      <th></th>\n",
       "      <th></th>\n",
       "      <th></th>\n",
       "      <th></th>\n",
       "      <th></th>\n",
       "      <th></th>\n",
       "      <th></th>\n",
       "      <th></th>\n",
       "      <th></th>\n",
       "      <th></th>\n",
       "      <th></th>\n",
       "      <th></th>\n",
       "      <th></th>\n",
       "      <th></th>\n",
       "      <th></th>\n",
       "      <th></th>\n",
       "      <th></th>\n",
       "      <th></th>\n",
       "      <th></th>\n",
       "      <th></th>\n",
       "      <th></th>\n",
       "    </tr>\n",
       "  </thead>\n",
       "  <tbody>\n",
       "    <tr>\n",
       "      <th>1</th>\n",
       "      <td>0</td>\n",
       "      <td>0</td>\n",
       "      <td>0</td>\n",
       "      <td>0</td>\n",
       "      <td>0</td>\n",
       "      <td>0</td>\n",
       "      <td>0</td>\n",
       "      <td>0</td>\n",
       "      <td>0</td>\n",
       "      <td>0</td>\n",
       "      <td>...</td>\n",
       "      <td>0</td>\n",
       "      <td>0</td>\n",
       "      <td>0</td>\n",
       "      <td>0</td>\n",
       "      <td>0</td>\n",
       "      <td>0</td>\n",
       "      <td>0</td>\n",
       "      <td>0</td>\n",
       "      <td>0</td>\n",
       "      <td>0</td>\n",
       "    </tr>\n",
       "    <tr>\n",
       "      <th>2</th>\n",
       "      <td>0</td>\n",
       "      <td>0</td>\n",
       "      <td>0</td>\n",
       "      <td>0</td>\n",
       "      <td>0</td>\n",
       "      <td>1</td>\n",
       "      <td>0</td>\n",
       "      <td>0</td>\n",
       "      <td>0</td>\n",
       "      <td>0</td>\n",
       "      <td>...</td>\n",
       "      <td>0</td>\n",
       "      <td>0</td>\n",
       "      <td>0</td>\n",
       "      <td>0</td>\n",
       "      <td>0</td>\n",
       "      <td>0</td>\n",
       "      <td>0</td>\n",
       "      <td>0</td>\n",
       "      <td>0</td>\n",
       "      <td>0</td>\n",
       "    </tr>\n",
       "    <tr>\n",
       "      <th>3</th>\n",
       "      <td>0</td>\n",
       "      <td>0</td>\n",
       "      <td>0</td>\n",
       "      <td>0</td>\n",
       "      <td>0</td>\n",
       "      <td>0</td>\n",
       "      <td>0</td>\n",
       "      <td>0</td>\n",
       "      <td>0</td>\n",
       "      <td>0</td>\n",
       "      <td>...</td>\n",
       "      <td>0</td>\n",
       "      <td>0</td>\n",
       "      <td>0</td>\n",
       "      <td>0</td>\n",
       "      <td>0</td>\n",
       "      <td>0</td>\n",
       "      <td>0</td>\n",
       "      <td>0</td>\n",
       "      <td>0</td>\n",
       "      <td>0</td>\n",
       "    </tr>\n",
       "    <tr>\n",
       "      <th>5</th>\n",
       "      <td>0</td>\n",
       "      <td>0</td>\n",
       "      <td>0</td>\n",
       "      <td>0</td>\n",
       "      <td>0</td>\n",
       "      <td>0</td>\n",
       "      <td>0</td>\n",
       "      <td>0</td>\n",
       "      <td>0</td>\n",
       "      <td>0</td>\n",
       "      <td>...</td>\n",
       "      <td>0</td>\n",
       "      <td>0</td>\n",
       "      <td>0</td>\n",
       "      <td>0</td>\n",
       "      <td>0</td>\n",
       "      <td>0</td>\n",
       "      <td>0</td>\n",
       "      <td>0</td>\n",
       "      <td>0</td>\n",
       "      <td>0</td>\n",
       "    </tr>\n",
       "    <tr>\n",
       "      <th>6</th>\n",
       "      <td>0</td>\n",
       "      <td>0</td>\n",
       "      <td>0</td>\n",
       "      <td>0</td>\n",
       "      <td>0</td>\n",
       "      <td>0</td>\n",
       "      <td>0</td>\n",
       "      <td>0</td>\n",
       "      <td>0</td>\n",
       "      <td>0</td>\n",
       "      <td>...</td>\n",
       "      <td>0</td>\n",
       "      <td>0</td>\n",
       "      <td>0</td>\n",
       "      <td>0</td>\n",
       "      <td>0</td>\n",
       "      <td>0</td>\n",
       "      <td>0</td>\n",
       "      <td>0</td>\n",
       "      <td>0</td>\n",
       "      <td>0</td>\n",
       "    </tr>\n",
       "  </tbody>\n",
       "</table>\n",
       "<p>5 rows × 60 columns</p>\n",
       "</div>"
      ],
      "text/plain": [
       "skill    .NET  AJAX  ASP.NET  ASP.NET MVC  Agile Methodologies  Android  \\\n",
       "user_id                                                                   \n",
       "1           0     0        0            0                    0        0   \n",
       "2           0     0        0            0                    0        1   \n",
       "3           0     0        0            0                    0        0   \n",
       "5           0     0        0            0                    0        0   \n",
       "6           0     0        0            0                    0        0   \n",
       "\n",
       "skill    AutoCAD  C  C#  C++  ...  Spring Framework  T-SQL  Visual Studio  \\\n",
       "user_id                       ...                                           \n",
       "1              0  0   0    0  ...                 0      0              0   \n",
       "2              0  0   0    0  ...                 0      0              0   \n",
       "3              0  0   0    0  ...                 0      0              0   \n",
       "5              0  0   0    0  ...                 0      0              0   \n",
       "6              0  0   0    0  ...                 0      0              0   \n",
       "\n",
       "skill    Web Development  Web Geliştirme  Web Services  XML  \\\n",
       "user_id                                                       \n",
       "1                      0               0             0    0   \n",
       "2                      0               0             0    0   \n",
       "3                      0               0             0    0   \n",
       "5                      0               0             0    0   \n",
       "6                      0               0             0    0   \n",
       "\n",
       "skill    Yazılım Geliştirme  jQuery  İngilizce  \n",
       "user_id                                         \n",
       "1                         0       0          0  \n",
       "2                         0       0          0  \n",
       "3                         0       0          0  \n",
       "5                         0       0          0  \n",
       "6                         0       0          0  \n",
       "\n",
       "[5 rows x 60 columns]"
      ]
     },
     "execution_count": 29,
     "metadata": {},
     "output_type": "execute_result"
    }
   ],
   "source": [
    "df_skill = df_skill.drop_duplicates(['user_id', 'skill'])\n",
    "df_skill = pd.pivot(df_skill, index='user_id', columns='skill', values='experience')\n",
    "df_skill = df_skill.fillna(0).astype(int)\n",
    "df_skill.head()"
   ]
  },
  {
   "cell_type": "markdown",
   "id": "bb7826a0",
   "metadata": {
    "papermill": {
     "duration": 0.011601,
     "end_time": "2023-02-22T23:53:00.485286",
     "exception": false,
     "start_time": "2023-02-22T23:53:00.473685",
     "status": "completed"
    },
    "tags": []
   },
   "source": [
    "### Experience Table Preprocess"
   ]
  },
  {
   "cell_type": "code",
   "execution_count": 30,
   "id": "c6024a00",
   "metadata": {
    "execution": {
     "iopub.execute_input": "2023-02-22T23:53:00.515013Z",
     "iopub.status.busy": "2023-02-22T23:53:00.514611Z",
     "iopub.status.idle": "2023-02-22T23:53:00.593998Z",
     "shell.execute_reply": "2023-02-22T23:53:00.592952Z"
    },
    "papermill": {
     "duration": 0.095055,
     "end_time": "2023-02-22T23:53:00.596775",
     "exception": false,
     "start_time": "2023-02-22T23:53:00.501720",
     "status": "completed"
    },
    "tags": []
   },
   "outputs": [],
   "source": [
    "df_exp = df_exp.sort_values(by=['user_id', 'start_year_month']) # we want nth function to return the last companies by date\n",
    "df_new = pd.DataFrame()"
   ]
  },
  {
   "cell_type": "code",
   "execution_count": 31,
   "id": "10ee86bc",
   "metadata": {},
   "outputs": [],
   "source": [
    "df_exp['start_date'] = pd.to_datetime(df_exp['start_year_month'], format='%Y%m')\n",
    "df_exp['end_date'] = pd.to_datetime(df_exp.groupby('user_id')['start_date'].shift(-1), errors='coerce')\n",
    "df_exp['end_date'] = df_exp['end_date'].fillna(pd.to_datetime('20190101', format='%Y%m%d'))"
   ]
  },
  {
   "cell_type": "code",
   "execution_count": 32,
   "id": "4490da84",
   "metadata": {},
   "outputs": [],
   "source": [
    "df_exp['experience_duration'] = (df_exp['end_date'] - df_exp['start_date']).dt.days"
   ]
  },
  {
   "cell_type": "code",
   "execution_count": 33,
   "id": "6767fed3",
   "metadata": {},
   "outputs": [],
   "source": [
    "df_new = df_exp.groupby(idx).agg(\n",
    "    {'experience_duration': 'mean'}\n",
    ").rename(columns={'experience_duration': 'total_duration'})"
   ]
  },
  {
   "cell_type": "code",
   "execution_count": 34,
   "id": "5f67b11d",
   "metadata": {},
   "outputs": [],
   "source": [
    "num_companies = df_exp.groupby('user_id')['company_id'].nunique()\n",
    "total_exp_duration = df_exp.groupby('user_id')['experience_duration'].sum()\n",
    "avg_exp_duration = (total_exp_duration / num_companies).fillna(0)\n",
    "df_new['avg_exp_duration'] = df_exp['user_id'].map(avg_exp_duration)\n"
   ]
  },
  {
   "cell_type": "code",
   "execution_count": 35,
   "id": "0d0e7f42",
   "metadata": {},
   "outputs": [],
   "source": [
    "df_new['avg_exp_duration'] = np.where(df_new['avg_exp_duration'].isna(), df_new['total_duration'], df_new['avg_exp_duration'])"
   ]
  },
  {
   "cell_type": "code",
   "execution_count": 36,
   "id": "90d71cab",
   "metadata": {
    "execution": {
     "iopub.execute_input": "2023-02-22T23:53:00.621282Z",
     "iopub.status.busy": "2023-02-22T23:53:00.619857Z",
     "iopub.status.idle": "2023-02-22T23:53:00.957755Z",
     "shell.execute_reply": "2023-02-22T23:53:00.956778Z"
    },
    "papermill": {
     "duration": 0.352939,
     "end_time": "2023-02-22T23:53:00.960456",
     "exception": false,
     "start_time": "2023-02-22T23:53:00.607517",
     "status": "completed"
    },
    "tags": []
   },
   "outputs": [],
   "source": [
    "df_new['company(1th)'] = df_exp.groupby(idx)['company_id'].nth(-1).astype(str)\n",
    "df_new['company(2th)'] = df_exp.groupby(idx)['company_id'].nth(-2).astype(str)\n",
    "df_new['company(3th)'] = df_exp.groupby(idx)['company_id'].nth(-3).astype(str)\n",
    "\n",
    "df_new['company_location(1th)'] = df_exp.groupby(idx)['location'].nth(-1).astype(str)\n",
    "df_new['company_location(2th)'] = df_exp.groupby(idx)['location'].nth(-2).astype(str)\n",
    "df_new['company_location(3th)'] = df_exp.groupby(idx)['location'].nth(-3).astype(str)\n",
    "\n",
    "df_new['min_exp_time'] = df_exp.groupby(idx)['start_year_month'].min()\n",
    "df_new['max_exp_time'] = df_exp.groupby(idx)['start_year_month'].max()\n",
    "\n",
    "df_new['company_count_2018'] = df_exp[df_exp['start_year_month'].gt(201712)].groupby(idx).size()\n",
    "df_new['company_count_2017'] = df_exp[df_exp['start_year_month'].gt(201612)].groupby(idx).size()\n",
    "df_new['company_count_2016'] = df_exp[df_exp['start_year_month'].gt(201512)].groupby(idx).size()\n",
    "df_new['company_count_2015'] = df_exp[df_exp['start_year_month'].gt(201412)].groupby(idx).size()\n",
    "df_new['company_count_2014'] = df_exp[df_exp['start_year_month'].gt(201312)].groupby(idx).size()\n",
    "df_new['company_count_2013'] = df_exp[df_exp['start_year_month'].gt(201212)].groupby(idx).size()\n"
   ]
  },
  {
   "cell_type": "code",
   "execution_count": 37,
   "id": "cf70b747",
   "metadata": {
    "execution": {
     "iopub.execute_input": "2023-02-22T23:53:00.983566Z",
     "iopub.status.busy": "2023-02-22T23:53:00.982770Z",
     "iopub.status.idle": "2023-02-22T23:53:01.004314Z",
     "shell.execute_reply": "2023-02-22T23:53:01.002331Z"
    },
    "papermill": {
     "duration": 0.036626,
     "end_time": "2023-02-22T23:53:01.007514",
     "exception": false,
     "start_time": "2023-02-22T23:53:00.970888",
     "status": "completed"
    },
    "tags": []
   },
   "outputs": [
    {
     "data": {
      "text/html": [
       "<div>\n",
       "<style scoped>\n",
       "    .dataframe tbody tr th:only-of-type {\n",
       "        vertical-align: middle;\n",
       "    }\n",
       "\n",
       "    .dataframe tbody tr th {\n",
       "        vertical-align: top;\n",
       "    }\n",
       "\n",
       "    .dataframe thead th {\n",
       "        text-align: right;\n",
       "    }\n",
       "</style>\n",
       "<table border=\"1\" class=\"dataframe\">\n",
       "  <thead>\n",
       "    <tr style=\"text-align: right;\">\n",
       "      <th></th>\n",
       "      <th>total_duration</th>\n",
       "      <th>avg_exp_duration</th>\n",
       "      <th>company(1th)</th>\n",
       "      <th>company(2th)</th>\n",
       "      <th>company(3th)</th>\n",
       "      <th>company_location(1th)</th>\n",
       "      <th>company_location(2th)</th>\n",
       "      <th>company_location(3th)</th>\n",
       "      <th>min_exp_time</th>\n",
       "      <th>max_exp_time</th>\n",
       "      <th>company_count_2018</th>\n",
       "      <th>company_count_2017</th>\n",
       "      <th>company_count_2016</th>\n",
       "      <th>company_count_2015</th>\n",
       "      <th>company_count_2014</th>\n",
       "      <th>company_count_2013</th>\n",
       "    </tr>\n",
       "    <tr>\n",
       "      <th>user_id</th>\n",
       "      <th></th>\n",
       "      <th></th>\n",
       "      <th></th>\n",
       "      <th></th>\n",
       "      <th></th>\n",
       "      <th></th>\n",
       "      <th></th>\n",
       "      <th></th>\n",
       "      <th></th>\n",
       "      <th></th>\n",
       "      <th></th>\n",
       "      <th></th>\n",
       "      <th></th>\n",
       "      <th></th>\n",
       "      <th></th>\n",
       "      <th></th>\n",
       "    </tr>\n",
       "  </thead>\n",
       "  <tbody>\n",
       "    <tr>\n",
       "      <th>0</th>\n",
       "      <td>2435.000000</td>\n",
       "      <td>750.666667</td>\n",
       "      <td>0</td>\n",
       "      <td>0</td>\n",
       "      <td>NaN</td>\n",
       "      <td>Visual Studio Asp.Net Developer</td>\n",
       "      <td>Serbest Çalışmalar</td>\n",
       "      <td>NaN</td>\n",
       "      <td>200509</td>\n",
       "      <td>200509</td>\n",
       "      <td>NaN</td>\n",
       "      <td>NaN</td>\n",
       "      <td>NaN</td>\n",
       "      <td>NaN</td>\n",
       "      <td>NaN</td>\n",
       "      <td>NaN</td>\n",
       "    </tr>\n",
       "    <tr>\n",
       "      <th>2</th>\n",
       "      <td>253.666667</td>\n",
       "      <td>2222.000000</td>\n",
       "      <td>10</td>\n",
       "      <td>7</td>\n",
       "      <td>9</td>\n",
       "      <td>Mersin, Turkey</td>\n",
       "      <td>Elazig, Turkey</td>\n",
       "      <td>Elazig, Turkey</td>\n",
       "      <td>201612</td>\n",
       "      <td>201806</td>\n",
       "      <td>1.0</td>\n",
       "      <td>2.0</td>\n",
       "      <td>3.0</td>\n",
       "      <td>3.0</td>\n",
       "      <td>3.0</td>\n",
       "      <td>3.0</td>\n",
       "    </tr>\n",
       "    <tr>\n",
       "      <th>5</th>\n",
       "      <td>579.000000</td>\n",
       "      <td>818.444444</td>\n",
       "      <td>15</td>\n",
       "      <td>NaN</td>\n",
       "      <td>NaN</td>\n",
       "      <td>İstanbul</td>\n",
       "      <td>NaN</td>\n",
       "      <td>NaN</td>\n",
       "      <td>201706</td>\n",
       "      <td>201706</td>\n",
       "      <td>NaN</td>\n",
       "      <td>1.0</td>\n",
       "      <td>1.0</td>\n",
       "      <td>1.0</td>\n",
       "      <td>1.0</td>\n",
       "      <td>1.0</td>\n",
       "    </tr>\n",
       "    <tr>\n",
       "      <th>7</th>\n",
       "      <td>228.500000</td>\n",
       "      <td>1380.000000</td>\n",
       "      <td>20</td>\n",
       "      <td>21</td>\n",
       "      <td>21</td>\n",
       "      <td>Elazığ</td>\n",
       "      <td>Macedonia</td>\n",
       "      <td>Istanbul, Turkey</td>\n",
       "      <td>201607</td>\n",
       "      <td>201812</td>\n",
       "      <td>1.0</td>\n",
       "      <td>3.0</td>\n",
       "      <td>4.0</td>\n",
       "      <td>4.0</td>\n",
       "      <td>4.0</td>\n",
       "      <td>4.0</td>\n",
       "    </tr>\n",
       "    <tr>\n",
       "      <th>10</th>\n",
       "      <td>659.666667</td>\n",
       "      <td>659.666667</td>\n",
       "      <td>26</td>\n",
       "      <td>26</td>\n",
       "      <td>27</td>\n",
       "      <td>istanbul</td>\n",
       "      <td>Istanbul, Turkey</td>\n",
       "      <td>Elazig, Turkey</td>\n",
       "      <td>201308</td>\n",
       "      <td>201805</td>\n",
       "      <td>2.0</td>\n",
       "      <td>2.0</td>\n",
       "      <td>2.0</td>\n",
       "      <td>2.0</td>\n",
       "      <td>2.0</td>\n",
       "      <td>3.0</td>\n",
       "    </tr>\n",
       "  </tbody>\n",
       "</table>\n",
       "</div>"
      ],
      "text/plain": [
       "         total_duration  avg_exp_duration company(1th) company(2th)  \\\n",
       "user_id                                                               \n",
       "0           2435.000000        750.666667            0            0   \n",
       "2            253.666667       2222.000000           10            7   \n",
       "5            579.000000        818.444444           15          NaN   \n",
       "7            228.500000       1380.000000           20           21   \n",
       "10           659.666667        659.666667           26           26   \n",
       "\n",
       "        company(3th)            company_location(1th) company_location(2th)  \\\n",
       "user_id                                                                       \n",
       "0                NaN  Visual Studio Asp.Net Developer    Serbest Çalışmalar   \n",
       "2                  9                   Mersin, Turkey        Elazig, Turkey   \n",
       "5                NaN                         İstanbul                   NaN   \n",
       "7                 21                           Elazığ             Macedonia   \n",
       "10                27                         istanbul      Istanbul, Turkey   \n",
       "\n",
       "        company_location(3th)  min_exp_time  max_exp_time  company_count_2018  \\\n",
       "user_id                                                                         \n",
       "0                         NaN        200509        200509                 NaN   \n",
       "2              Elazig, Turkey        201612        201806                 1.0   \n",
       "5                         NaN        201706        201706                 NaN   \n",
       "7            Istanbul, Turkey        201607        201812                 1.0   \n",
       "10             Elazig, Turkey        201308        201805                 2.0   \n",
       "\n",
       "         company_count_2017  company_count_2016  company_count_2015  \\\n",
       "user_id                                                               \n",
       "0                       NaN                 NaN                 NaN   \n",
       "2                       2.0                 3.0                 3.0   \n",
       "5                       1.0                 1.0                 1.0   \n",
       "7                       3.0                 4.0                 4.0   \n",
       "10                      2.0                 2.0                 2.0   \n",
       "\n",
       "         company_count_2014  company_count_2013  \n",
       "user_id                                          \n",
       "0                       NaN                 NaN  \n",
       "2                       3.0                 3.0  \n",
       "5                       1.0                 1.0  \n",
       "7                       4.0                 4.0  \n",
       "10                      2.0                 3.0  "
      ]
     },
     "execution_count": 37,
     "metadata": {},
     "output_type": "execute_result"
    }
   ],
   "source": [
    "df_exp = df_new\n",
    "df_exp.head()"
   ]
  },
  {
   "cell_type": "markdown",
   "id": "c56e8f14",
   "metadata": {
    "papermill": {
     "duration": 0.010131,
     "end_time": "2023-02-22T23:53:01.028443",
     "exception": false,
     "start_time": "2023-02-22T23:53:01.018312",
     "status": "completed"
    },
    "tags": []
   },
   "source": [
    "### Merge Tables"
   ]
  },
  {
   "cell_type": "code",
   "execution_count": 38,
   "id": "35c5e951",
   "metadata": {
    "execution": {
     "iopub.execute_input": "2023-02-22T23:53:01.050918Z",
     "iopub.status.busy": "2023-02-22T23:53:01.050467Z",
     "iopub.status.idle": "2023-02-22T23:53:01.365074Z",
     "shell.execute_reply": "2023-02-22T23:53:01.363936Z"
    },
    "papermill": {
     "duration": 0.329152,
     "end_time": "2023-02-22T23:53:01.368009",
     "exception": false,
     "start_time": "2023-02-22T23:53:01.038857",
     "status": "completed"
    },
    "tags": []
   },
   "outputs": [],
   "source": [
    "df_train[df_edu.columns]   = df_edu[df_edu.columns]\n",
    "df_train[df_lang.columns]  = df_lang[df_lang.columns]\n",
    "df_train[df_skill.columns] = df_skill[df_skill.columns]\n",
    "df_train[df_exp.columns]   = df_exp[df_exp.columns]\n",
    "\n",
    "df_test[df_edu.columns]   = df_edu[df_edu.columns]\n",
    "df_test[df_lang.columns]  = df_lang[df_lang.columns]\n",
    "df_test[df_skill.columns] = df_skill[df_skill.columns]\n",
    "df_test[df_exp.columns]   = df_exp[df_exp.columns]"
   ]
  },
  {
   "cell_type": "markdown",
   "id": "b930dd91",
   "metadata": {
    "papermill": {
     "duration": 0.009917,
     "end_time": "2023-02-22T23:53:01.388448",
     "exception": false,
     "start_time": "2023-02-22T23:53:01.378531",
     "status": "completed"
    },
    "tags": []
   },
   "source": [
    "### Encoding"
   ]
  },
  {
   "cell_type": "code",
   "execution_count": 39,
   "id": "1adbab5a",
   "metadata": {
    "execution": {
     "iopub.execute_input": "2023-02-22T23:53:01.411001Z",
     "iopub.status.busy": "2023-02-22T23:53:01.410564Z",
     "iopub.status.idle": "2023-02-22T23:53:01.419571Z",
     "shell.execute_reply": "2023-02-22T23:53:01.418503Z"
    },
    "papermill": {
     "duration": 0.022928,
     "end_time": "2023-02-22T23:53:01.421742",
     "exception": false,
     "start_time": "2023-02-22T23:53:01.398814",
     "status": "completed"
    },
    "tags": []
   },
   "outputs": [],
   "source": [
    "cat_cols = [col for col in df_test.columns if df_test[col].dtype == 'object']\n",
    "num_cols = [col for col in df_test.columns if df_test[col].dtype != 'object']"
   ]
  },
  {
   "cell_type": "code",
   "execution_count": 40,
   "id": "01716dff",
   "metadata": {
    "execution": {
     "iopub.execute_input": "2023-02-22T23:53:01.445693Z",
     "iopub.status.busy": "2023-02-22T23:53:01.444468Z",
     "iopub.status.idle": "2023-02-22T23:53:01.616256Z",
     "shell.execute_reply": "2023-02-22T23:53:01.614790Z"
    },
    "papermill": {
     "duration": 0.186248,
     "end_time": "2023-02-22T23:53:01.618968",
     "exception": false,
     "start_time": "2023-02-22T23:53:01.432720",
     "status": "completed"
    },
    "tags": []
   },
   "outputs": [],
   "source": [
    "for col in cat_cols:\n",
    "    train_cats  = set(df_train[col].unique())\n",
    "    test_cats   = set(df_test[col].unique())\n",
    "    common_cats = set.intersection(train_cats, test_cats)\n",
    "    \n",
    "    df_train.loc[~df_train[col].isin(common_cats), col] = 'other'\n",
    "    df_test.loc[~df_test[col].isin(common_cats), col] = 'other'"
   ]
  },
  {
   "cell_type": "code",
   "execution_count": 41,
   "id": "43ddc298",
   "metadata": {
    "execution": {
     "iopub.execute_input": "2023-02-22T23:53:01.641916Z",
     "iopub.status.busy": "2023-02-22T23:53:01.641487Z",
     "iopub.status.idle": "2023-02-22T23:53:01.963603Z",
     "shell.execute_reply": "2023-02-22T23:53:01.962489Z"
    },
    "papermill": {
     "duration": 0.337129,
     "end_time": "2023-02-22T23:53:01.966706",
     "exception": false,
     "start_time": "2023-02-22T23:53:01.629577",
     "status": "completed"
    },
    "tags": []
   },
   "outputs": [],
   "source": [
    "df_all = pd.concat([df_train, df_test], axis=0)\n",
    "\n",
    "for col in cat_cols:\n",
    "    df_all[col] = df_all[col].factorize()[0]\n",
    "\n",
    "df_all[cat_cols] = df_all[cat_cols].astype('category')\n",
    "df_all[num_cols] = df_all[num_cols].fillna(-1)\n",
    "\n",
    "df_train = df_all.loc[df_train.index, df_train.columns]\n",
    "df_test = df_all.loc[df_test.index, df_test.columns]"
   ]
  },
  {
   "cell_type": "code",
   "execution_count": 42,
   "id": "c9c931b5",
   "metadata": {},
   "outputs": [],
   "source": [
    "\n",
    "df_train['max_exp_time **2'] = df_train['max_exp_time'] **2\n",
    "\n",
    "df_test['max_exp_time **2'] = df_test['max_exp_time'] **2\n"
   ]
  },
  {
   "cell_type": "markdown",
   "id": "3574b0ed",
   "metadata": {
    "papermill": {
     "duration": 0.010664,
     "end_time": "2023-02-22T23:53:01.988567",
     "exception": false,
     "start_time": "2023-02-22T23:53:01.977903",
     "status": "completed"
    },
    "tags": []
   },
   "source": [
    "### Training"
   ]
  },
  {
   "cell_type": "code",
   "execution_count": 44,
   "id": "b39a58c6",
   "metadata": {
    "execution": {
     "iopub.execute_input": "2023-02-23T00:02:33.475063Z",
     "iopub.status.busy": "2023-02-23T00:02:33.474650Z",
     "iopub.status.idle": "2023-02-23T00:02:33.479801Z",
     "shell.execute_reply": "2023-02-23T00:02:33.478463Z"
    },
    "papermill": {
     "duration": 0.019527,
     "end_time": "2023-02-23T00:02:33.482184",
     "exception": false,
     "start_time": "2023-02-23T00:02:33.462657",
     "status": "completed"
    },
    "tags": []
   },
   "outputs": [],
   "source": [
    "#Feature Importance"
   ]
  },
  {
   "cell_type": "code",
   "execution_count": 45,
   "id": "0c4fa3d5",
   "metadata": {
    "execution": {
     "iopub.execute_input": "2023-02-23T00:02:33.505286Z",
     "iopub.status.busy": "2023-02-23T00:02:33.504850Z",
     "iopub.status.idle": "2023-02-23T00:04:15.901281Z",
     "shell.execute_reply": "2023-02-23T00:04:15.900090Z"
    },
    "papermill": {
     "duration": 102.421741,
     "end_time": "2023-02-23T00:04:15.914584",
     "exception": false,
     "start_time": "2023-02-23T00:02:33.492843",
     "status": "completed"
    },
    "tags": []
   },
   "outputs": [
    {
     "name": "stdout",
     "output_type": "stream",
     "text": [
      "1. feature graduate (0.060479)\n",
      "2. feature industry (0.050537)\n",
      "3. feature total_duration (0.047960)\n",
      "4. feature min_exp_time (0.046720)\n",
      "5. feature location (0.046367)\n",
      "6. feature company(1th) (0.039807)\n",
      "7. feature avg_exp_duration (0.034980)\n",
      "8. feature max_exp_time **2 (0.034214)\n",
      "9. feature max_exp_time (0.034188)\n",
      "10. feature company(2th) (0.028271)\n",
      "11. feature master (0.027288)\n",
      "12. feature company_location(1th) (0.027252)\n",
      "13. feature company_location(2th) (0.021941)\n",
      "14. feature company(3th) (0.020486)\n",
      "15. feature company_location(3th) (0.017000)\n",
      "16. feature english (0.013970)\n",
      "17. feature company_count_2013 (0.010819)\n",
      "18. feature german (0.010290)\n",
      "19. feature company_count_2014 (0.010036)\n",
      "20. feature Java (0.010024)\n",
      "21. feature company_count_2015 (0.009570)\n",
      "22. feature SQL (0.009451)\n",
      "23. feature Python (0.009430)\n",
      "24. feature company_count_2016 (0.009325)\n",
      "25. feature turkish (0.009241)\n",
      "26. feature C# (0.009198)\n",
      "27. feature JavaScript (0.008876)\n",
      "28. feature C++ (0.008780)\n",
      "29. feature Microsoft Office (0.008652)\n",
      "30. feature C (0.008561)\n",
      "31. feature HTML (0.008434)\n",
      "32. feature Git (0.008266)\n",
      "33. feature company_count_2017 (0.008242)\n",
      "34. feature Linux (0.008049)\n",
      "35. feature CSS (0.007818)\n",
      "36. feature MySQL (0.007574)\n",
      "37. feature Microsoft SQL Server (0.007537)\n",
      "38. feature İngilizce (0.007192)\n",
      "39. feature Yazılım Geliştirme (0.007093)\n",
      "40. feature Matlab (0.006888)\n",
      "41. feature company_count_2018 (0.006886)\n",
      "42. feature HTML5 (0.006820)\n",
      "43. feature OOP (Nesne Yönelimli Programlama) (0.006649)\n",
      "44. feature PHP (0.006551)\n",
      "45. feature React.js (0.006470)\n",
      "46. feature Android (0.006025)\n",
      "47. feature Microsoft Excel (0.006004)\n",
      "48. feature Proje Yönetimi (0.005882)\n",
      "49. feature jQuery (0.005871)\n",
      "50. feature Software Development (0.005844)\n",
      "51. feature Ekip Çalışması (0.005822)\n",
      "52. feature ASP.NET MVC (0.005812)\n",
      "53. feature ASP.NET (0.005805)\n",
      "54. feature .NET (0.005562)\n",
      "55. feature french (0.005412)\n",
      "56. feature spanish (0.005381)\n",
      "57. feature Visual Studio (0.005350)\n",
      "58. feature JIRA (0.005298)\n",
      "59. feature Mühendislik (0.005122)\n",
      "60. feature Photoshop (0.005063)\n",
      "61. feature PostgreSQL (0.005043)\n",
      "62. feature Scrum (0.005008)\n",
      "63. feature Web Geliştirme (0.005008)\n",
      "64. feature Node.js (0.004989)\n",
      "65. feature English (0.004921)\n",
      "66. feature Project Management (0.004855)\n",
      "67. feature JSON (0.004738)\n",
      "68. feature Docker (0.004686)\n",
      "69. feature PL/SQL (0.004685)\n",
      "70. feature Spring Framework (0.004646)\n",
      "71. feature arabic (0.004629)\n",
      "72. feature AutoCAD (0.004586)\n",
      "73. feature Object-Oriented Programming (OOP) (0.004536)\n",
      "74. feature phd (0.004507)\n",
      "75. feature XML (0.004458)\n",
      "76. feature russian (0.004456)\n",
      "77. feature MongoDB (0.004138)\n",
      "78. feature Microsoft Word (0.004131)\n",
      "79. feature Web Development (0.003970)\n",
      "80. feature Programming (0.003605)\n",
      "81. feature T-SQL (0.003601)\n",
      "82. feature Hibernate (0.003591)\n",
      "83. feature Agile Methodologies (0.003566)\n",
      "84. feature Web Services (0.003465)\n",
      "85. feature AJAX (0.003332)\n",
      "86. feature Software Engineering (0.003278)\n",
      "87. feature OOP (0.003137)\n",
      "88. feature Eclipse (0.003039)\n",
      "89. feature Entity Framework (0.002967)\n"
     ]
    }
   ],
   "source": [
    "from sklearn.ensemble  import RandomForestClassifier, GradientBoostingClassifier, VotingClassifier\n",
    "# initialize the model with hyperparameters\n",
    "clf = RandomForestClassifier(n_estimators=700)\n",
    "\n",
    "# fit the model on data\n",
    "clf.fit(X, y)\n",
    "\n",
    "# get feature importances\n",
    "importances = clf.feature_importances_\n",
    "\n",
    "# sort feature importances in descending order\n",
    "indices = np.argsort(importances)[::-1]\n",
    "\n",
    "# print the feature importances\n",
    "for f in range(X.shape[1]):\n",
    "    print(\"%d. feature %s (%f)\" % (f + 1, X.columns[indices[f]], importances[indices[f]]))"
   ]
  },
  {
   "cell_type": "code",
   "execution_count": 46,
   "id": "f41d7252",
   "metadata": {
    "execution": {
     "iopub.execute_input": "2023-02-23T00:04:15.938719Z",
     "iopub.status.busy": "2023-02-23T00:04:15.938267Z",
     "iopub.status.idle": "2023-02-23T00:04:17.580523Z",
     "shell.execute_reply": "2023-02-23T00:04:17.579266Z"
    },
    "papermill": {
     "duration": 1.657791,
     "end_time": "2023-02-23T00:04:17.583732",
     "exception": false,
     "start_time": "2023-02-23T00:04:15.925941",
     "status": "completed"
    },
    "tags": []
   },
   "outputs": [
    {
     "data": {
      "image/png": "[encoded data removed]",
      "text/plain": [
       "<Figure size 6000x600 with 1 Axes>"
      ]
     },
     "metadata": {},
     "output_type": "display_data"
    }
   ],
   "source": [
    "features = pd.Series(clf.feature_importances_, index=X.columns).sort_values(ascending=False)\n",
    "features.plot.bar(figsize=(60,6))\n",
    "features = list(features.index)"
   ]
  },
  {
   "cell_type": "code",
   "execution_count": 50,
   "id": "cc9b7105",
   "metadata": {
    "execution": {
     "iopub.execute_input": "2023-02-23T00:04:17.719072Z",
     "iopub.status.busy": "2023-02-23T00:04:17.718059Z",
     "iopub.status.idle": "2023-02-23T00:04:17.727698Z",
     "shell.execute_reply": "2023-02-23T00:04:17.726410Z"
    },
    "papermill": {
     "duration": 0.025967,
     "end_time": "2023-02-23T00:04:17.730399",
     "exception": false,
     "start_time": "2023-02-23T00:04:17.704432",
     "status": "completed"
    },
    "tags": []
   },
   "outputs": [],
   "source": [
    "df_test=df_test.drop(columns=['french','Project Management','phd','Node.js','English','PL/SQL','JSON','Spring Framework','XML',\n",
    " 'Docker','Object-Oriented Programming (OOP)','AutoCAD','Microsoft Word','arabic','MongoDB','russian','Web Development','T-SQL',\n",
    " 'Web Services','Hibernate','Programming','Agile Methodologies','Software Engineering','AJAX','OOP', 'Eclipse','Entity Framework'])"
   ]
  },
  {
   "cell_type": "code",
   "execution_count": 51,
   "id": "d11f1504",
   "metadata": {
    "execution": {
     "iopub.execute_input": "2023-02-23T00:04:17.757250Z",
     "iopub.status.busy": "2023-02-23T00:04:17.756819Z",
     "iopub.status.idle": "2023-02-23T00:13:16.321697Z",
     "shell.execute_reply": "2023-02-23T00:13:16.320291Z"
    },
    "papermill": {
     "duration": 538.593224,
     "end_time": "2023-02-23T00:13:16.336181",
     "exception": false,
     "start_time": "2023-02-23T00:04:17.742957",
     "status": "completed"
    },
    "tags": []
   },
   "outputs": [
    {
     "ename": "KeyboardInterrupt",
     "evalue": "",
     "output_type": "error",
     "traceback": [
      "\u001b[1;31m---------------------------------------------------------------------------\u001b[0m",
      "\u001b[1;31mKeyboardInterrupt\u001b[0m                         Traceback (most recent call last)",
      "Cell \u001b[1;32mIn[51], line 8\u001b[0m\n\u001b[0;32m      5\u001b[0m clf \u001b[39m=\u001b[39m RandomForestClassifier(n_estimators\u001b[39m=\u001b[39m\u001b[39m700\u001b[39m, class_weight\u001b[39m=\u001b[39m\u001b[39m'\u001b[39m\u001b[39mbalanced_subsample\u001b[39m\u001b[39m'\u001b[39m, random_state\u001b[39m=\u001b[39m\u001b[39m42\u001b[39m)\n\u001b[0;32m      6\u001b[0m cv \u001b[39m=\u001b[39m StratifiedKFold(shuffle\u001b[39m=\u001b[39m\u001b[39mTrue\u001b[39;00m, random_state\u001b[39m=\u001b[39m\u001b[39m42\u001b[39m)\n\u001b[1;32m----> 8\u001b[0m scores \u001b[39m=\u001b[39m cross_val_score(clf, X, y, cv\u001b[39m=\u001b[39;49mcv, scoring\u001b[39m=\u001b[39;49m\u001b[39m'\u001b[39;49m\u001b[39maccuracy\u001b[39;49m\u001b[39m'\u001b[39;49m)\n\u001b[0;32m     10\u001b[0m \u001b[39mprint\u001b[39m(\u001b[39mf\u001b[39m\u001b[39m'\u001b[39m\u001b[39mScores mean: \u001b[39m\u001b[39m{\u001b[39;00mnp\u001b[39m.\u001b[39mmax(scores)\u001b[39m:\u001b[39;00m\u001b[39m.4f\u001b[39m\u001b[39m}\u001b[39;00m\u001b[39m'\u001b[39m)\n\u001b[0;32m     11\u001b[0m \u001b[39mprint\u001b[39m(\u001b[39mf\u001b[39m\u001b[39m'\u001b[39m\u001b[39mScores std: \u001b[39m\u001b[39m{\u001b[39;00mnp\u001b[39m.\u001b[39mstd(scores)\u001b[39m:\u001b[39;00m\u001b[39m.4f\u001b[39m\u001b[39m}\u001b[39;00m\u001b[39m'\u001b[39m)\n",
      "File \u001b[1;32mc:\\Users\\Erdem\\AppData\\Local\\Programs\\Python\\Python310\\lib\\site-packages\\sklearn\\model_selection\\_validation.py:515\u001b[0m, in \u001b[0;36mcross_val_score\u001b[1;34m(estimator, X, y, groups, scoring, cv, n_jobs, verbose, fit_params, pre_dispatch, error_score)\u001b[0m\n\u001b[0;32m    512\u001b[0m \u001b[39m# To ensure multimetric format is not supported\u001b[39;00m\n\u001b[0;32m    513\u001b[0m scorer \u001b[39m=\u001b[39m check_scoring(estimator, scoring\u001b[39m=\u001b[39mscoring)\n\u001b[1;32m--> 515\u001b[0m cv_results \u001b[39m=\u001b[39m cross_validate(\n\u001b[0;32m    516\u001b[0m     estimator\u001b[39m=\u001b[39;49mestimator,\n\u001b[0;32m    517\u001b[0m     X\u001b[39m=\u001b[39;49mX,\n\u001b[0;32m    518\u001b[0m     y\u001b[39m=\u001b[39;49my,\n\u001b[0;32m    519\u001b[0m     groups\u001b[39m=\u001b[39;49mgroups,\n\u001b[0;32m    520\u001b[0m     scoring\u001b[39m=\u001b[39;49m{\u001b[39m\"\u001b[39;49m\u001b[39mscore\u001b[39;49m\u001b[39m\"\u001b[39;49m: scorer},\n\u001b[0;32m    521\u001b[0m     cv\u001b[39m=\u001b[39;49mcv,\n\u001b[0;32m    522\u001b[0m     n_jobs\u001b[39m=\u001b[39;49mn_jobs,\n\u001b[0;32m    523\u001b[0m     verbose\u001b[39m=\u001b[39;49mverbose,\n\u001b[0;32m    524\u001b[0m     fit_params\u001b[39m=\u001b[39;49mfit_params,\n\u001b[0;32m    525\u001b[0m     pre_dispatch\u001b[39m=\u001b[39;49mpre_dispatch,\n\u001b[0;32m    526\u001b[0m     error_score\u001b[39m=\u001b[39;49merror_score,\n\u001b[0;32m    527\u001b[0m )\n\u001b[0;32m    528\u001b[0m \u001b[39mreturn\u001b[39;00m cv_results[\u001b[39m\"\u001b[39m\u001b[39mtest_score\u001b[39m\u001b[39m\"\u001b[39m]\n",
      "File \u001b[1;32mc:\\Users\\Erdem\\AppData\\Local\\Programs\\Python\\Python310\\lib\\site-packages\\sklearn\\model_selection\\_validation.py:266\u001b[0m, in \u001b[0;36mcross_validate\u001b[1;34m(estimator, X, y, groups, scoring, cv, n_jobs, verbose, fit_params, pre_dispatch, return_train_score, return_estimator, error_score)\u001b[0m\n\u001b[0;32m    263\u001b[0m \u001b[39m# We clone the estimator to make sure that all the folds are\u001b[39;00m\n\u001b[0;32m    264\u001b[0m \u001b[39m# independent, and that it is pickle-able.\u001b[39;00m\n\u001b[0;32m    265\u001b[0m parallel \u001b[39m=\u001b[39m Parallel(n_jobs\u001b[39m=\u001b[39mn_jobs, verbose\u001b[39m=\u001b[39mverbose, pre_dispatch\u001b[39m=\u001b[39mpre_dispatch)\n\u001b[1;32m--> 266\u001b[0m results \u001b[39m=\u001b[39m parallel(\n\u001b[0;32m    267\u001b[0m     delayed(_fit_and_score)(\n\u001b[0;32m    268\u001b[0m         clone(estimator),\n\u001b[0;32m    269\u001b[0m         X,\n\u001b[0;32m    270\u001b[0m         y,\n\u001b[0;32m    271\u001b[0m         scorers,\n\u001b[0;32m    272\u001b[0m         train,\n\u001b[0;32m    273\u001b[0m         test,\n\u001b[0;32m    274\u001b[0m         verbose,\n\u001b[0;32m    275\u001b[0m         \u001b[39mNone\u001b[39;49;00m,\n\u001b[0;32m    276\u001b[0m         fit_params,\n\u001b[0;32m    277\u001b[0m         return_train_score\u001b[39m=\u001b[39;49mreturn_train_score,\n\u001b[0;32m    278\u001b[0m         return_times\u001b[39m=\u001b[39;49m\u001b[39mTrue\u001b[39;49;00m,\n\u001b[0;32m    279\u001b[0m         return_estimator\u001b[39m=\u001b[39;49mreturn_estimator,\n\u001b[0;32m    280\u001b[0m         error_score\u001b[39m=\u001b[39;49merror_score,\n\u001b[0;32m    281\u001b[0m     )\n\u001b[0;32m    282\u001b[0m     \u001b[39mfor\u001b[39;49;00m train, test \u001b[39min\u001b[39;49;00m cv\u001b[39m.\u001b[39;49msplit(X, y, groups)\n\u001b[0;32m    283\u001b[0m )\n\u001b[0;32m    285\u001b[0m _warn_or_raise_about_fit_failures(results, error_score)\n\u001b[0;32m    287\u001b[0m \u001b[39m# For callabe scoring, the return type is only know after calling. If the\u001b[39;00m\n\u001b[0;32m    288\u001b[0m \u001b[39m# return type is a dictionary, the error scores can now be inserted with\u001b[39;00m\n\u001b[0;32m    289\u001b[0m \u001b[39m# the correct key.\u001b[39;00m\n",
      "File \u001b[1;32mc:\\Users\\Erdem\\AppData\\Local\\Programs\\Python\\Python310\\lib\\site-packages\\joblib\\parallel.py:1088\u001b[0m, in \u001b[0;36mParallel.__call__\u001b[1;34m(self, iterable)\u001b[0m\n\u001b[0;32m   1085\u001b[0m \u001b[39mif\u001b[39;00m \u001b[39mself\u001b[39m\u001b[39m.\u001b[39mdispatch_one_batch(iterator):\n\u001b[0;32m   1086\u001b[0m     \u001b[39mself\u001b[39m\u001b[39m.\u001b[39m_iterating \u001b[39m=\u001b[39m \u001b[39mself\u001b[39m\u001b[39m.\u001b[39m_original_iterator \u001b[39mis\u001b[39;00m \u001b[39mnot\u001b[39;00m \u001b[39mNone\u001b[39;00m\n\u001b[1;32m-> 1088\u001b[0m \u001b[39mwhile\u001b[39;00m \u001b[39mself\u001b[39;49m\u001b[39m.\u001b[39;49mdispatch_one_batch(iterator):\n\u001b[0;32m   1089\u001b[0m     \u001b[39mpass\u001b[39;00m\n\u001b[0;32m   1091\u001b[0m \u001b[39mif\u001b[39;00m pre_dispatch \u001b[39m==\u001b[39m \u001b[39m\"\u001b[39m\u001b[39mall\u001b[39m\u001b[39m\"\u001b[39m \u001b[39mor\u001b[39;00m n_jobs \u001b[39m==\u001b[39m \u001b[39m1\u001b[39m:\n\u001b[0;32m   1092\u001b[0m     \u001b[39m# The iterable was consumed all at once by the above for loop.\u001b[39;00m\n\u001b[0;32m   1093\u001b[0m     \u001b[39m# No need to wait for async callbacks to trigger to\u001b[39;00m\n\u001b[0;32m   1094\u001b[0m     \u001b[39m# consumption.\u001b[39;00m\n",
      "File \u001b[1;32mc:\\Users\\Erdem\\AppData\\Local\\Programs\\Python\\Python310\\lib\\site-packages\\joblib\\parallel.py:901\u001b[0m, in \u001b[0;36mParallel.dispatch_one_batch\u001b[1;34m(self, iterator)\u001b[0m\n\u001b[0;32m    899\u001b[0m     \u001b[39mreturn\u001b[39;00m \u001b[39mFalse\u001b[39;00m\n\u001b[0;32m    900\u001b[0m \u001b[39melse\u001b[39;00m:\n\u001b[1;32m--> 901\u001b[0m     \u001b[39mself\u001b[39;49m\u001b[39m.\u001b[39;49m_dispatch(tasks)\n\u001b[0;32m    902\u001b[0m     \u001b[39mreturn\u001b[39;00m \u001b[39mTrue\u001b[39;00m\n",
      "File \u001b[1;32mc:\\Users\\Erdem\\AppData\\Local\\Programs\\Python\\Python310\\lib\\site-packages\\joblib\\parallel.py:819\u001b[0m, in \u001b[0;36mParallel._dispatch\u001b[1;34m(self, batch)\u001b[0m\n\u001b[0;32m    817\u001b[0m \u001b[39mwith\u001b[39;00m \u001b[39mself\u001b[39m\u001b[39m.\u001b[39m_lock:\n\u001b[0;32m    818\u001b[0m     job_idx \u001b[39m=\u001b[39m \u001b[39mlen\u001b[39m(\u001b[39mself\u001b[39m\u001b[39m.\u001b[39m_jobs)\n\u001b[1;32m--> 819\u001b[0m     job \u001b[39m=\u001b[39m \u001b[39mself\u001b[39;49m\u001b[39m.\u001b[39;49m_backend\u001b[39m.\u001b[39;49mapply_async(batch, callback\u001b[39m=\u001b[39;49mcb)\n\u001b[0;32m    820\u001b[0m     \u001b[39m# A job can complete so quickly than its callback is\u001b[39;00m\n\u001b[0;32m    821\u001b[0m     \u001b[39m# called before we get here, causing self._jobs to\u001b[39;00m\n\u001b[0;32m    822\u001b[0m     \u001b[39m# grow. To ensure correct results ordering, .insert is\u001b[39;00m\n\u001b[0;32m    823\u001b[0m     \u001b[39m# used (rather than .append) in the following line\u001b[39;00m\n\u001b[0;32m    824\u001b[0m     \u001b[39mself\u001b[39m\u001b[39m.\u001b[39m_jobs\u001b[39m.\u001b[39minsert(job_idx, job)\n",
      "File \u001b[1;32mc:\\Users\\Erdem\\AppData\\Local\\Programs\\Python\\Python310\\lib\\site-packages\\joblib\\_parallel_backends.py:208\u001b[0m, in \u001b[0;36mSequentialBackend.apply_async\u001b[1;34m(self, func, callback)\u001b[0m\n\u001b[0;32m    206\u001b[0m \u001b[39mdef\u001b[39;00m \u001b[39mapply_async\u001b[39m(\u001b[39mself\u001b[39m, func, callback\u001b[39m=\u001b[39m\u001b[39mNone\u001b[39;00m):\n\u001b[0;32m    207\u001b[0m     \u001b[39m\"\"\"Schedule a func to be run\"\"\"\u001b[39;00m\n\u001b[1;32m--> 208\u001b[0m     result \u001b[39m=\u001b[39m ImmediateResult(func)\n\u001b[0;32m    209\u001b[0m     \u001b[39mif\u001b[39;00m callback:\n\u001b[0;32m    210\u001b[0m         callback(result)\n",
      "File \u001b[1;32mc:\\Users\\Erdem\\AppData\\Local\\Programs\\Python\\Python310\\lib\\site-packages\\joblib\\_parallel_backends.py:597\u001b[0m, in \u001b[0;36mImmediateResult.__init__\u001b[1;34m(self, batch)\u001b[0m\n\u001b[0;32m    594\u001b[0m \u001b[39mdef\u001b[39;00m \u001b[39m__init__\u001b[39m(\u001b[39mself\u001b[39m, batch):\n\u001b[0;32m    595\u001b[0m     \u001b[39m# Don't delay the application, to avoid keeping the input\u001b[39;00m\n\u001b[0;32m    596\u001b[0m     \u001b[39m# arguments in memory\u001b[39;00m\n\u001b[1;32m--> 597\u001b[0m     \u001b[39mself\u001b[39m\u001b[39m.\u001b[39mresults \u001b[39m=\u001b[39m batch()\n",
      "File \u001b[1;32mc:\\Users\\Erdem\\AppData\\Local\\Programs\\Python\\Python310\\lib\\site-packages\\joblib\\parallel.py:288\u001b[0m, in \u001b[0;36mBatchedCalls.__call__\u001b[1;34m(self)\u001b[0m\n\u001b[0;32m    284\u001b[0m \u001b[39mdef\u001b[39;00m \u001b[39m__call__\u001b[39m(\u001b[39mself\u001b[39m):\n\u001b[0;32m    285\u001b[0m     \u001b[39m# Set the default nested backend to self._backend but do not set the\u001b[39;00m\n\u001b[0;32m    286\u001b[0m     \u001b[39m# change the default number of processes to -1\u001b[39;00m\n\u001b[0;32m    287\u001b[0m     \u001b[39mwith\u001b[39;00m parallel_backend(\u001b[39mself\u001b[39m\u001b[39m.\u001b[39m_backend, n_jobs\u001b[39m=\u001b[39m\u001b[39mself\u001b[39m\u001b[39m.\u001b[39m_n_jobs):\n\u001b[1;32m--> 288\u001b[0m         \u001b[39mreturn\u001b[39;00m [func(\u001b[39m*\u001b[39margs, \u001b[39m*\u001b[39m\u001b[39m*\u001b[39mkwargs)\n\u001b[0;32m    289\u001b[0m                 \u001b[39mfor\u001b[39;00m func, args, kwargs \u001b[39min\u001b[39;00m \u001b[39mself\u001b[39m\u001b[39m.\u001b[39mitems]\n",
      "File \u001b[1;32mc:\\Users\\Erdem\\AppData\\Local\\Programs\\Python\\Python310\\lib\\site-packages\\joblib\\parallel.py:288\u001b[0m, in \u001b[0;36m<listcomp>\u001b[1;34m(.0)\u001b[0m\n\u001b[0;32m    284\u001b[0m \u001b[39mdef\u001b[39;00m \u001b[39m__call__\u001b[39m(\u001b[39mself\u001b[39m):\n\u001b[0;32m    285\u001b[0m     \u001b[39m# Set the default nested backend to self._backend but do not set the\u001b[39;00m\n\u001b[0;32m    286\u001b[0m     \u001b[39m# change the default number of processes to -1\u001b[39;00m\n\u001b[0;32m    287\u001b[0m     \u001b[39mwith\u001b[39;00m parallel_backend(\u001b[39mself\u001b[39m\u001b[39m.\u001b[39m_backend, n_jobs\u001b[39m=\u001b[39m\u001b[39mself\u001b[39m\u001b[39m.\u001b[39m_n_jobs):\n\u001b[1;32m--> 288\u001b[0m         \u001b[39mreturn\u001b[39;00m [func(\u001b[39m*\u001b[39margs, \u001b[39m*\u001b[39m\u001b[39m*\u001b[39mkwargs)\n\u001b[0;32m    289\u001b[0m                 \u001b[39mfor\u001b[39;00m func, args, kwargs \u001b[39min\u001b[39;00m \u001b[39mself\u001b[39m\u001b[39m.\u001b[39mitems]\n",
      "File \u001b[1;32mc:\\Users\\Erdem\\AppData\\Local\\Programs\\Python\\Python310\\lib\\site-packages\\sklearn\\utils\\fixes.py:117\u001b[0m, in \u001b[0;36m_FuncWrapper.__call__\u001b[1;34m(self, *args, **kwargs)\u001b[0m\n\u001b[0;32m    115\u001b[0m \u001b[39mdef\u001b[39;00m \u001b[39m__call__\u001b[39m(\u001b[39mself\u001b[39m, \u001b[39m*\u001b[39margs, \u001b[39m*\u001b[39m\u001b[39m*\u001b[39mkwargs):\n\u001b[0;32m    116\u001b[0m     \u001b[39mwith\u001b[39;00m config_context(\u001b[39m*\u001b[39m\u001b[39m*\u001b[39m\u001b[39mself\u001b[39m\u001b[39m.\u001b[39mconfig):\n\u001b[1;32m--> 117\u001b[0m         \u001b[39mreturn\u001b[39;00m \u001b[39mself\u001b[39m\u001b[39m.\u001b[39mfunction(\u001b[39m*\u001b[39margs, \u001b[39m*\u001b[39m\u001b[39m*\u001b[39mkwargs)\n",
      "File \u001b[1;32mc:\\Users\\Erdem\\AppData\\Local\\Programs\\Python\\Python310\\lib\\site-packages\\sklearn\\model_selection\\_validation.py:686\u001b[0m, in \u001b[0;36m_fit_and_score\u001b[1;34m(estimator, X, y, scorer, train, test, verbose, parameters, fit_params, return_train_score, return_parameters, return_n_test_samples, return_times, return_estimator, split_progress, candidate_progress, error_score)\u001b[0m\n\u001b[0;32m    684\u001b[0m         estimator\u001b[39m.\u001b[39mfit(X_train, \u001b[39m*\u001b[39m\u001b[39m*\u001b[39mfit_params)\n\u001b[0;32m    685\u001b[0m     \u001b[39melse\u001b[39;00m:\n\u001b[1;32m--> 686\u001b[0m         estimator\u001b[39m.\u001b[39mfit(X_train, y_train, \u001b[39m*\u001b[39m\u001b[39m*\u001b[39mfit_params)\n\u001b[0;32m    688\u001b[0m \u001b[39mexcept\u001b[39;00m \u001b[39mException\u001b[39;00m:\n\u001b[0;32m    689\u001b[0m     \u001b[39m# Note fit time as time until error\u001b[39;00m\n\u001b[0;32m    690\u001b[0m     fit_time \u001b[39m=\u001b[39m time\u001b[39m.\u001b[39mtime() \u001b[39m-\u001b[39m start_time\n",
      "File \u001b[1;32mc:\\Users\\Erdem\\AppData\\Local\\Programs\\Python\\Python310\\lib\\site-packages\\sklearn\\ensemble\\_forest.py:476\u001b[0m, in \u001b[0;36mBaseForest.fit\u001b[1;34m(self, X, y, sample_weight)\u001b[0m\n\u001b[0;32m    465\u001b[0m trees \u001b[39m=\u001b[39m [\n\u001b[0;32m    466\u001b[0m     \u001b[39mself\u001b[39m\u001b[39m.\u001b[39m_make_estimator(append\u001b[39m=\u001b[39m\u001b[39mFalse\u001b[39;00m, random_state\u001b[39m=\u001b[39mrandom_state)\n\u001b[0;32m    467\u001b[0m     \u001b[39mfor\u001b[39;00m i \u001b[39min\u001b[39;00m \u001b[39mrange\u001b[39m(n_more_estimators)\n\u001b[0;32m    468\u001b[0m ]\n\u001b[0;32m    470\u001b[0m \u001b[39m# Parallel loop: we prefer the threading backend as the Cython code\u001b[39;00m\n\u001b[0;32m    471\u001b[0m \u001b[39m# for fitting the trees is internally releasing the Python GIL\u001b[39;00m\n\u001b[0;32m    472\u001b[0m \u001b[39m# making threading more efficient than multiprocessing in\u001b[39;00m\n\u001b[0;32m    473\u001b[0m \u001b[39m# that case. However, for joblib 0.12+ we respect any\u001b[39;00m\n\u001b[0;32m    474\u001b[0m \u001b[39m# parallel_backend contexts set at a higher level,\u001b[39;00m\n\u001b[0;32m    475\u001b[0m \u001b[39m# since correctness does not rely on using threads.\u001b[39;00m\n\u001b[1;32m--> 476\u001b[0m trees \u001b[39m=\u001b[39m Parallel(\n\u001b[0;32m    477\u001b[0m     n_jobs\u001b[39m=\u001b[39;49m\u001b[39mself\u001b[39;49m\u001b[39m.\u001b[39;49mn_jobs,\n\u001b[0;32m    478\u001b[0m     verbose\u001b[39m=\u001b[39;49m\u001b[39mself\u001b[39;49m\u001b[39m.\u001b[39;49mverbose,\n\u001b[0;32m    479\u001b[0m     prefer\u001b[39m=\u001b[39;49m\u001b[39m\"\u001b[39;49m\u001b[39mthreads\u001b[39;49m\u001b[39m\"\u001b[39;49m,\n\u001b[0;32m    480\u001b[0m )(\n\u001b[0;32m    481\u001b[0m     delayed(_parallel_build_trees)(\n\u001b[0;32m    482\u001b[0m         t,\n\u001b[0;32m    483\u001b[0m         \u001b[39mself\u001b[39;49m\u001b[39m.\u001b[39;49mbootstrap,\n\u001b[0;32m    484\u001b[0m         X,\n\u001b[0;32m    485\u001b[0m         y,\n\u001b[0;32m    486\u001b[0m         sample_weight,\n\u001b[0;32m    487\u001b[0m         i,\n\u001b[0;32m    488\u001b[0m         \u001b[39mlen\u001b[39;49m(trees),\n\u001b[0;32m    489\u001b[0m         verbose\u001b[39m=\u001b[39;49m\u001b[39mself\u001b[39;49m\u001b[39m.\u001b[39;49mverbose,\n\u001b[0;32m    490\u001b[0m         class_weight\u001b[39m=\u001b[39;49m\u001b[39mself\u001b[39;49m\u001b[39m.\u001b[39;49mclass_weight,\n\u001b[0;32m    491\u001b[0m         n_samples_bootstrap\u001b[39m=\u001b[39;49mn_samples_bootstrap,\n\u001b[0;32m    492\u001b[0m     )\n\u001b[0;32m    493\u001b[0m     \u001b[39mfor\u001b[39;49;00m i, t \u001b[39min\u001b[39;49;00m \u001b[39menumerate\u001b[39;49m(trees)\n\u001b[0;32m    494\u001b[0m )\n\u001b[0;32m    496\u001b[0m \u001b[39m# Collect newly grown trees\u001b[39;00m\n\u001b[0;32m    497\u001b[0m \u001b[39mself\u001b[39m\u001b[39m.\u001b[39mestimators_\u001b[39m.\u001b[39mextend(trees)\n",
      "File \u001b[1;32mc:\\Users\\Erdem\\AppData\\Local\\Programs\\Python\\Python310\\lib\\site-packages\\joblib\\parallel.py:1088\u001b[0m, in \u001b[0;36mParallel.__call__\u001b[1;34m(self, iterable)\u001b[0m\n\u001b[0;32m   1085\u001b[0m \u001b[39mif\u001b[39;00m \u001b[39mself\u001b[39m\u001b[39m.\u001b[39mdispatch_one_batch(iterator):\n\u001b[0;32m   1086\u001b[0m     \u001b[39mself\u001b[39m\u001b[39m.\u001b[39m_iterating \u001b[39m=\u001b[39m \u001b[39mself\u001b[39m\u001b[39m.\u001b[39m_original_iterator \u001b[39mis\u001b[39;00m \u001b[39mnot\u001b[39;00m \u001b[39mNone\u001b[39;00m\n\u001b[1;32m-> 1088\u001b[0m \u001b[39mwhile\u001b[39;00m \u001b[39mself\u001b[39;49m\u001b[39m.\u001b[39;49mdispatch_one_batch(iterator):\n\u001b[0;32m   1089\u001b[0m     \u001b[39mpass\u001b[39;00m\n\u001b[0;32m   1091\u001b[0m \u001b[39mif\u001b[39;00m pre_dispatch \u001b[39m==\u001b[39m \u001b[39m\"\u001b[39m\u001b[39mall\u001b[39m\u001b[39m\"\u001b[39m \u001b[39mor\u001b[39;00m n_jobs \u001b[39m==\u001b[39m \u001b[39m1\u001b[39m:\n\u001b[0;32m   1092\u001b[0m     \u001b[39m# The iterable was consumed all at once by the above for loop.\u001b[39;00m\n\u001b[0;32m   1093\u001b[0m     \u001b[39m# No need to wait for async callbacks to trigger to\u001b[39;00m\n\u001b[0;32m   1094\u001b[0m     \u001b[39m# consumption.\u001b[39;00m\n",
      "File \u001b[1;32mc:\\Users\\Erdem\\AppData\\Local\\Programs\\Python\\Python310\\lib\\site-packages\\joblib\\parallel.py:901\u001b[0m, in \u001b[0;36mParallel.dispatch_one_batch\u001b[1;34m(self, iterator)\u001b[0m\n\u001b[0;32m    899\u001b[0m     \u001b[39mreturn\u001b[39;00m \u001b[39mFalse\u001b[39;00m\n\u001b[0;32m    900\u001b[0m \u001b[39melse\u001b[39;00m:\n\u001b[1;32m--> 901\u001b[0m     \u001b[39mself\u001b[39;49m\u001b[39m.\u001b[39;49m_dispatch(tasks)\n\u001b[0;32m    902\u001b[0m     \u001b[39mreturn\u001b[39;00m \u001b[39mTrue\u001b[39;00m\n",
      "File \u001b[1;32mc:\\Users\\Erdem\\AppData\\Local\\Programs\\Python\\Python310\\lib\\site-packages\\joblib\\parallel.py:819\u001b[0m, in \u001b[0;36mParallel._dispatch\u001b[1;34m(self, batch)\u001b[0m\n\u001b[0;32m    817\u001b[0m \u001b[39mwith\u001b[39;00m \u001b[39mself\u001b[39m\u001b[39m.\u001b[39m_lock:\n\u001b[0;32m    818\u001b[0m     job_idx \u001b[39m=\u001b[39m \u001b[39mlen\u001b[39m(\u001b[39mself\u001b[39m\u001b[39m.\u001b[39m_jobs)\n\u001b[1;32m--> 819\u001b[0m     job \u001b[39m=\u001b[39m \u001b[39mself\u001b[39;49m\u001b[39m.\u001b[39;49m_backend\u001b[39m.\u001b[39;49mapply_async(batch, callback\u001b[39m=\u001b[39;49mcb)\n\u001b[0;32m    820\u001b[0m     \u001b[39m# A job can complete so quickly than its callback is\u001b[39;00m\n\u001b[0;32m    821\u001b[0m     \u001b[39m# called before we get here, causing self._jobs to\u001b[39;00m\n\u001b[0;32m    822\u001b[0m     \u001b[39m# grow. To ensure correct results ordering, .insert is\u001b[39;00m\n\u001b[0;32m    823\u001b[0m     \u001b[39m# used (rather than .append) in the following line\u001b[39;00m\n\u001b[0;32m    824\u001b[0m     \u001b[39mself\u001b[39m\u001b[39m.\u001b[39m_jobs\u001b[39m.\u001b[39minsert(job_idx, job)\n",
      "File \u001b[1;32mc:\\Users\\Erdem\\AppData\\Local\\Programs\\Python\\Python310\\lib\\site-packages\\joblib\\_parallel_backends.py:208\u001b[0m, in \u001b[0;36mSequentialBackend.apply_async\u001b[1;34m(self, func, callback)\u001b[0m\n\u001b[0;32m    206\u001b[0m \u001b[39mdef\u001b[39;00m \u001b[39mapply_async\u001b[39m(\u001b[39mself\u001b[39m, func, callback\u001b[39m=\u001b[39m\u001b[39mNone\u001b[39;00m):\n\u001b[0;32m    207\u001b[0m     \u001b[39m\"\"\"Schedule a func to be run\"\"\"\u001b[39;00m\n\u001b[1;32m--> 208\u001b[0m     result \u001b[39m=\u001b[39m ImmediateResult(func)\n\u001b[0;32m    209\u001b[0m     \u001b[39mif\u001b[39;00m callback:\n\u001b[0;32m    210\u001b[0m         callback(result)\n",
      "File \u001b[1;32mc:\\Users\\Erdem\\AppData\\Local\\Programs\\Python\\Python310\\lib\\site-packages\\joblib\\_parallel_backends.py:597\u001b[0m, in \u001b[0;36mImmediateResult.__init__\u001b[1;34m(self, batch)\u001b[0m\n\u001b[0;32m    594\u001b[0m \u001b[39mdef\u001b[39;00m \u001b[39m__init__\u001b[39m(\u001b[39mself\u001b[39m, batch):\n\u001b[0;32m    595\u001b[0m     \u001b[39m# Don't delay the application, to avoid keeping the input\u001b[39;00m\n\u001b[0;32m    596\u001b[0m     \u001b[39m# arguments in memory\u001b[39;00m\n\u001b[1;32m--> 597\u001b[0m     \u001b[39mself\u001b[39m\u001b[39m.\u001b[39mresults \u001b[39m=\u001b[39m batch()\n",
      "File \u001b[1;32mc:\\Users\\Erdem\\AppData\\Local\\Programs\\Python\\Python310\\lib\\site-packages\\joblib\\parallel.py:288\u001b[0m, in \u001b[0;36mBatchedCalls.__call__\u001b[1;34m(self)\u001b[0m\n\u001b[0;32m    284\u001b[0m \u001b[39mdef\u001b[39;00m \u001b[39m__call__\u001b[39m(\u001b[39mself\u001b[39m):\n\u001b[0;32m    285\u001b[0m     \u001b[39m# Set the default nested backend to self._backend but do not set the\u001b[39;00m\n\u001b[0;32m    286\u001b[0m     \u001b[39m# change the default number of processes to -1\u001b[39;00m\n\u001b[0;32m    287\u001b[0m     \u001b[39mwith\u001b[39;00m parallel_backend(\u001b[39mself\u001b[39m\u001b[39m.\u001b[39m_backend, n_jobs\u001b[39m=\u001b[39m\u001b[39mself\u001b[39m\u001b[39m.\u001b[39m_n_jobs):\n\u001b[1;32m--> 288\u001b[0m         \u001b[39mreturn\u001b[39;00m [func(\u001b[39m*\u001b[39margs, \u001b[39m*\u001b[39m\u001b[39m*\u001b[39mkwargs)\n\u001b[0;32m    289\u001b[0m                 \u001b[39mfor\u001b[39;00m func, args, kwargs \u001b[39min\u001b[39;00m \u001b[39mself\u001b[39m\u001b[39m.\u001b[39mitems]\n",
      "File \u001b[1;32mc:\\Users\\Erdem\\AppData\\Local\\Programs\\Python\\Python310\\lib\\site-packages\\joblib\\parallel.py:288\u001b[0m, in \u001b[0;36m<listcomp>\u001b[1;34m(.0)\u001b[0m\n\u001b[0;32m    284\u001b[0m \u001b[39mdef\u001b[39;00m \u001b[39m__call__\u001b[39m(\u001b[39mself\u001b[39m):\n\u001b[0;32m    285\u001b[0m     \u001b[39m# Set the default nested backend to self._backend but do not set the\u001b[39;00m\n\u001b[0;32m    286\u001b[0m     \u001b[39m# change the default number of processes to -1\u001b[39;00m\n\u001b[0;32m    287\u001b[0m     \u001b[39mwith\u001b[39;00m parallel_backend(\u001b[39mself\u001b[39m\u001b[39m.\u001b[39m_backend, n_jobs\u001b[39m=\u001b[39m\u001b[39mself\u001b[39m\u001b[39m.\u001b[39m_n_jobs):\n\u001b[1;32m--> 288\u001b[0m         \u001b[39mreturn\u001b[39;00m [func(\u001b[39m*\u001b[39margs, \u001b[39m*\u001b[39m\u001b[39m*\u001b[39mkwargs)\n\u001b[0;32m    289\u001b[0m                 \u001b[39mfor\u001b[39;00m func, args, kwargs \u001b[39min\u001b[39;00m \u001b[39mself\u001b[39m\u001b[39m.\u001b[39mitems]\n",
      "File \u001b[1;32mc:\\Users\\Erdem\\AppData\\Local\\Programs\\Python\\Python310\\lib\\site-packages\\sklearn\\utils\\fixes.py:117\u001b[0m, in \u001b[0;36m_FuncWrapper.__call__\u001b[1;34m(self, *args, **kwargs)\u001b[0m\n\u001b[0;32m    115\u001b[0m \u001b[39mdef\u001b[39;00m \u001b[39m__call__\u001b[39m(\u001b[39mself\u001b[39m, \u001b[39m*\u001b[39margs, \u001b[39m*\u001b[39m\u001b[39m*\u001b[39mkwargs):\n\u001b[0;32m    116\u001b[0m     \u001b[39mwith\u001b[39;00m config_context(\u001b[39m*\u001b[39m\u001b[39m*\u001b[39m\u001b[39mself\u001b[39m\u001b[39m.\u001b[39mconfig):\n\u001b[1;32m--> 117\u001b[0m         \u001b[39mreturn\u001b[39;00m \u001b[39mself\u001b[39m\u001b[39m.\u001b[39mfunction(\u001b[39m*\u001b[39margs, \u001b[39m*\u001b[39m\u001b[39m*\u001b[39mkwargs)\n",
      "File \u001b[1;32mc:\\Users\\Erdem\\AppData\\Local\\Programs\\Python\\Python310\\lib\\site-packages\\sklearn\\ensemble\\_forest.py:189\u001b[0m, in \u001b[0;36m_parallel_build_trees\u001b[1;34m(tree, bootstrap, X, y, sample_weight, tree_idx, n_trees, verbose, class_weight, n_samples_bootstrap)\u001b[0m\n\u001b[0;32m    186\u001b[0m     \u001b[39melif\u001b[39;00m class_weight \u001b[39m==\u001b[39m \u001b[39m\"\u001b[39m\u001b[39mbalanced_subsample\u001b[39m\u001b[39m\"\u001b[39m:\n\u001b[0;32m    187\u001b[0m         curr_sample_weight \u001b[39m*\u001b[39m\u001b[39m=\u001b[39m compute_sample_weight(\u001b[39m\"\u001b[39m\u001b[39mbalanced\u001b[39m\u001b[39m\"\u001b[39m, y, indices\u001b[39m=\u001b[39mindices)\n\u001b[1;32m--> 189\u001b[0m     tree\u001b[39m.\u001b[39;49mfit(X, y, sample_weight\u001b[39m=\u001b[39;49mcurr_sample_weight, check_input\u001b[39m=\u001b[39;49m\u001b[39mFalse\u001b[39;49;00m)\n\u001b[0;32m    190\u001b[0m \u001b[39melse\u001b[39;00m:\n\u001b[0;32m    191\u001b[0m     tree\u001b[39m.\u001b[39mfit(X, y, sample_weight\u001b[39m=\u001b[39msample_weight, check_input\u001b[39m=\u001b[39m\u001b[39mFalse\u001b[39;00m)\n",
      "File \u001b[1;32mc:\\Users\\Erdem\\AppData\\Local\\Programs\\Python\\Python310\\lib\\site-packages\\sklearn\\tree\\_classes.py:969\u001b[0m, in \u001b[0;36mDecisionTreeClassifier.fit\u001b[1;34m(self, X, y, sample_weight, check_input)\u001b[0m\n\u001b[0;32m    939\u001b[0m \u001b[39mdef\u001b[39;00m \u001b[39mfit\u001b[39m(\u001b[39mself\u001b[39m, X, y, sample_weight\u001b[39m=\u001b[39m\u001b[39mNone\u001b[39;00m, check_input\u001b[39m=\u001b[39m\u001b[39mTrue\u001b[39;00m):\n\u001b[0;32m    940\u001b[0m     \u001b[39m\"\"\"Build a decision tree classifier from the training set (X, y).\u001b[39;00m\n\u001b[0;32m    941\u001b[0m \n\u001b[0;32m    942\u001b[0m \u001b[39m    Parameters\u001b[39;00m\n\u001b[1;32m   (...)\u001b[0m\n\u001b[0;32m    966\u001b[0m \u001b[39m        Fitted estimator.\u001b[39;00m\n\u001b[0;32m    967\u001b[0m \u001b[39m    \"\"\"\u001b[39;00m\n\u001b[1;32m--> 969\u001b[0m     \u001b[39msuper\u001b[39;49m()\u001b[39m.\u001b[39;49mfit(\n\u001b[0;32m    970\u001b[0m         X,\n\u001b[0;32m    971\u001b[0m         y,\n\u001b[0;32m    972\u001b[0m         sample_weight\u001b[39m=\u001b[39;49msample_weight,\n\u001b[0;32m    973\u001b[0m         check_input\u001b[39m=\u001b[39;49mcheck_input,\n\u001b[0;32m    974\u001b[0m     )\n\u001b[0;32m    975\u001b[0m     \u001b[39mreturn\u001b[39;00m \u001b[39mself\u001b[39m\n",
      "File \u001b[1;32mc:\\Users\\Erdem\\AppData\\Local\\Programs\\Python\\Python310\\lib\\site-packages\\sklearn\\tree\\_classes.py:458\u001b[0m, in \u001b[0;36mBaseDecisionTree.fit\u001b[1;34m(self, X, y, sample_weight, check_input)\u001b[0m\n\u001b[0;32m    447\u001b[0m \u001b[39melse\u001b[39;00m:\n\u001b[0;32m    448\u001b[0m     builder \u001b[39m=\u001b[39m BestFirstTreeBuilder(\n\u001b[0;32m    449\u001b[0m         splitter,\n\u001b[0;32m    450\u001b[0m         min_samples_split,\n\u001b[1;32m   (...)\u001b[0m\n\u001b[0;32m    455\u001b[0m         \u001b[39mself\u001b[39m\u001b[39m.\u001b[39mmin_impurity_decrease,\n\u001b[0;32m    456\u001b[0m     )\n\u001b[1;32m--> 458\u001b[0m builder\u001b[39m.\u001b[39;49mbuild(\u001b[39mself\u001b[39;49m\u001b[39m.\u001b[39;49mtree_, X, y, sample_weight)\n\u001b[0;32m    460\u001b[0m \u001b[39mif\u001b[39;00m \u001b[39mself\u001b[39m\u001b[39m.\u001b[39mn_outputs_ \u001b[39m==\u001b[39m \u001b[39m1\u001b[39m \u001b[39mand\u001b[39;00m is_classifier(\u001b[39mself\u001b[39m):\n\u001b[0;32m    461\u001b[0m     \u001b[39mself\u001b[39m\u001b[39m.\u001b[39mn_classes_ \u001b[39m=\u001b[39m \u001b[39mself\u001b[39m\u001b[39m.\u001b[39mn_classes_[\u001b[39m0\u001b[39m]\n",
      "\u001b[1;31mKeyboardInterrupt\u001b[0m: "
     ]
    }
   ],
   "source": [
    "X, y = df_train.drop(columns=[target,'french','Project Management','phd','Node.js','English','PL/SQL','JSON',\n",
    " 'Spring Framework','XML','Docker','Object-Oriented Programming (OOP)','AutoCAD','Microsoft Word','arabic','MongoDB','russian',\n",
    " 'Web Development','T-SQL','Web Services','Hibernate','Programming','Agile Methodologies','Software Engineering','AJAX','OOP', \n",
    " 'Eclipse','Entity Framework']), df_train[target]\n",
    "clf = RandomForestClassifier(n_estimators=700, class_weight='balanced_subsample', random_state=42)\n",
    "cv = StratifiedKFold(shuffle=True, random_state=42)\n",
    "\n",
    "scores = cross_val_score(clf, X, y, cv=cv, scoring='accuracy')\n",
    "\n",
    "print(f'Scores mean: {np.max(scores):.4f}')\n",
    "print(f'Scores std: {np.std(scores):.4f}')\n",
    "\n",
    "\n",
    "clf.fit(X, y)\n",
    "df_subm.loc[df_test.index, target] = clf.predict(df_test)\n",
    "\n",
    "df_subm[target] = df_subm[target].astype(int)\n",
    "df_subm[target].value_counts()"
   ]
  },
  {
   "cell_type": "code",
   "execution_count": null,
   "id": "d55d70c7",
   "metadata": {
    "execution": {
     "iopub.execute_input": "2023-02-23T00:13:16.364075Z",
     "iopub.status.busy": "2023-02-23T00:13:16.363564Z",
     "iopub.status.idle": "2023-02-23T00:13:16.374793Z",
     "shell.execute_reply": "2023-02-23T00:13:16.373810Z"
    },
    "papermill": {
     "duration": 0.02923,
     "end_time": "2023-02-23T00:13:16.378323",
     "exception": false,
     "start_time": "2023-02-23T00:13:16.349093",
     "status": "completed"
    },
    "tags": []
   },
   "outputs": [
    {
     "data": {
      "text/html": [
       "<div>\n",
       "<style scoped>\n",
       "    .dataframe tbody tr th:only-of-type {\n",
       "        vertical-align: middle;\n",
       "    }\n",
       "\n",
       "    .dataframe tbody tr th {\n",
       "        vertical-align: top;\n",
       "    }\n",
       "\n",
       "    .dataframe thead th {\n",
       "        text-align: right;\n",
       "    }\n",
       "</style>\n",
       "<table border=\"1\" class=\"dataframe\">\n",
       "  <thead>\n",
       "    <tr style=\"text-align: right;\">\n",
       "      <th></th>\n",
       "      <th>moved_after_2019</th>\n",
       "    </tr>\n",
       "    <tr>\n",
       "      <th>user_id</th>\n",
       "      <th></th>\n",
       "    </tr>\n",
       "  </thead>\n",
       "  <tbody>\n",
       "    <tr>\n",
       "      <th>17449</th>\n",
       "      <td>0</td>\n",
       "    </tr>\n",
       "    <tr>\n",
       "      <th>33967</th>\n",
       "      <td>0</td>\n",
       "    </tr>\n",
       "    <tr>\n",
       "      <th>2110</th>\n",
       "      <td>0</td>\n",
       "    </tr>\n",
       "    <tr>\n",
       "      <th>55082</th>\n",
       "      <td>0</td>\n",
       "    </tr>\n",
       "    <tr>\n",
       "      <th>37165</th>\n",
       "      <td>0</td>\n",
       "    </tr>\n",
       "    <tr>\n",
       "      <th>...</th>\n",
       "      <td>...</td>\n",
       "    </tr>\n",
       "    <tr>\n",
       "      <th>32847</th>\n",
       "      <td>1</td>\n",
       "    </tr>\n",
       "    <tr>\n",
       "      <th>20054</th>\n",
       "      <td>0</td>\n",
       "    </tr>\n",
       "    <tr>\n",
       "      <th>7029</th>\n",
       "      <td>1</td>\n",
       "    </tr>\n",
       "    <tr>\n",
       "      <th>56130</th>\n",
       "      <td>0</td>\n",
       "    </tr>\n",
       "    <tr>\n",
       "      <th>16036</th>\n",
       "      <td>0</td>\n",
       "    </tr>\n",
       "  </tbody>\n",
       "</table>\n",
       "<p>13255 rows × 1 columns</p>\n",
       "</div>"
      ],
      "text/plain": [
       "         moved_after_2019\n",
       "user_id                  \n",
       "17449                   0\n",
       "33967                   0\n",
       "2110                    0\n",
       "55082                   0\n",
       "37165                   0\n",
       "...                   ...\n",
       "32847                   1\n",
       "20054                   0\n",
       "7029                    1\n",
       "56130                   0\n",
       "16036                   0\n",
       "\n",
       "[13255 rows x 1 columns]"
      ]
     },
     "execution_count": 29,
     "metadata": {},
     "output_type": "execute_result"
    }
   ],
   "source": [
    "df_subm"
   ]
  },
  {
   "cell_type": "code",
   "execution_count": null,
   "id": "1c4f176c",
   "metadata": {
    "execution": {
     "iopub.execute_input": "2023-02-23T00:13:16.436701Z",
     "iopub.status.busy": "2023-02-23T00:13:16.435961Z",
     "iopub.status.idle": "2023-02-23T00:13:16.445989Z",
     "shell.execute_reply": "2023-02-23T00:13:16.445075Z"
    },
    "papermill": {
     "duration": 0.028521,
     "end_time": "2023-02-23T00:13:16.448271",
     "exception": false,
     "start_time": "2023-02-23T00:13:16.419750",
     "status": "completed"
    },
    "tags": []
   },
   "outputs": [
    {
     "data": {
      "text/html": [
       "<div>\n",
       "<style scoped>\n",
       "    .dataframe tbody tr th:only-of-type {\n",
       "        vertical-align: middle;\n",
       "    }\n",
       "\n",
       "    .dataframe tbody tr th {\n",
       "        vertical-align: top;\n",
       "    }\n",
       "\n",
       "    .dataframe thead th {\n",
       "        text-align: right;\n",
       "    }\n",
       "</style>\n",
       "<table border=\"1\" class=\"dataframe\">\n",
       "  <thead>\n",
       "    <tr style=\"text-align: right;\">\n",
       "      <th></th>\n",
       "      <th>moved_after_2019</th>\n",
       "    </tr>\n",
       "    <tr>\n",
       "      <th>user_id</th>\n",
       "      <th></th>\n",
       "    </tr>\n",
       "  </thead>\n",
       "  <tbody>\n",
       "    <tr>\n",
       "      <th>17449</th>\n",
       "      <td>0</td>\n",
       "    </tr>\n",
       "    <tr>\n",
       "      <th>33967</th>\n",
       "      <td>0</td>\n",
       "    </tr>\n",
       "    <tr>\n",
       "      <th>2110</th>\n",
       "      <td>0</td>\n",
       "    </tr>\n",
       "    <tr>\n",
       "      <th>55082</th>\n",
       "      <td>0</td>\n",
       "    </tr>\n",
       "    <tr>\n",
       "      <th>37165</th>\n",
       "      <td>0</td>\n",
       "    </tr>\n",
       "    <tr>\n",
       "      <th>...</th>\n",
       "      <td>...</td>\n",
       "    </tr>\n",
       "    <tr>\n",
       "      <th>32847</th>\n",
       "      <td>1</td>\n",
       "    </tr>\n",
       "    <tr>\n",
       "      <th>20054</th>\n",
       "      <td>0</td>\n",
       "    </tr>\n",
       "    <tr>\n",
       "      <th>7029</th>\n",
       "      <td>1</td>\n",
       "    </tr>\n",
       "    <tr>\n",
       "      <th>56130</th>\n",
       "      <td>0</td>\n",
       "    </tr>\n",
       "    <tr>\n",
       "      <th>16036</th>\n",
       "      <td>0</td>\n",
       "    </tr>\n",
       "  </tbody>\n",
       "</table>\n",
       "<p>13255 rows × 1 columns</p>\n",
       "</div>"
      ],
      "text/plain": [
       "         moved_after_2019\n",
       "user_id                  \n",
       "17449                   0\n",
       "33967                   0\n",
       "2110                    0\n",
       "55082                   0\n",
       "37165                   0\n",
       "...                   ...\n",
       "32847                   1\n",
       "20054                   0\n",
       "7029                    1\n",
       "56130                   0\n",
       "16036                   0\n",
       "\n",
       "[13255 rows x 1 columns]"
      ]
     },
     "execution_count": 30,
     "metadata": {},
     "output_type": "execute_result"
    }
   ],
   "source": [
    "df_subm"
   ]
  }
 ],
 "metadata": {
  "kernelspec": {
   "display_name": "Python 3",
   "language": "python",
   "name": "python3"
  },
  "language_info": {
   "codemirror_mode": {
    "name": "ipython",
    "version": 3
   },
   "file_extension": ".py",
   "mimetype": "text/x-python",
   "name": "python",
   "nbconvert_exporter": "python",
   "pygments_lexer": "ipython3",
   "version": "3.10.2"
  },
  "papermill": {
   "default_parameters": {},
   "duration": 1238.767231,
   "end_time": "2023-02-23T00:13:17.522284",
   "environment_variables": {},
   "exception": null,
   "input_path": "__notebook__.ipynb",
   "output_path": "__notebook__.ipynb",
   "parameters": {},
   "start_time": "2023-02-22T23:52:38.755053",
   "version": "2.3.4"
  },
  "vscode": {
   "interpreter": {
    "hash": "63f5f1a2bcc8820b298ceaaf8dfd7156d0b35159db48b583bfb373dc08e63356"
   }
  }
 },
 "nbformat": 4,
 "nbformat_minor": 5
}
